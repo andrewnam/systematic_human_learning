{
 "cells": [
  {
   "cell_type": "code",
   "execution_count": null,
   "metadata": {},
   "outputs": [],
   "source": [
    "%matplotlib inline\n",
    "\n",
    "proj_path = \"/Users/andrew/Desktop/projects/hidden_singles/\""
   ]
  },
  {
   "cell_type": "code",
   "execution_count": null,
   "metadata": {},
   "outputs": [],
   "source": [
    "src_path = proj_path + \"python\"\n",
    "\n",
    "import sys\n",
    "sys.path.append(src_path)\n",
    "\n",
    "import pandas as pd\n",
    "from hiddensingles.experiment.data_wrangler import *\n",
    "from hiddensingles.misc import utils\n",
    "\n",
    "import warnings\n",
    "warnings.filterwarnings('ignore')\n",
    "pd.set_option('display.max_rows', 300)"
   ]
  },
  {
   "cell_type": "code",
   "execution_count": null,
   "metadata": {},
   "outputs": [],
   "source": [
    "# Load and wrangle the data\n",
    "\n",
    "raw_data = load_raw_data(proj_path + 'data/raw/round1')\n",
    "\n",
    "dtest_results = diagnostic_test_results(raw_data)\n",
    "results = get_puzzle_results(raw_data)\n",
    "questionnaire_responses = get_questionnaire_responses(raw_data)\n",
    "response_types = get_response_types(raw_data, results)\n",
    "tutorial_house = get_tutorial_house(results)\n",
    "survey_responses = get_survey_responses(raw_data)"
   ]
  },
  {
   "cell_type": "code",
   "execution_count": null,
   "metadata": {
    "tags": []
   },
   "outputs": [],
   "source": [
    "def make_df_trial_puzzle(trial):\n",
    "    rows = []\n",
    "    rows.append({'type': 'target',\n",
    "                 'key': 'goal',\n",
    "                 'row': trial['coordinates']['goal']['x'],\n",
    "                 'column': trial['coordinates']['goal']['y'],\n",
    "                 'number': trial['digits']['target']})\n",
    "    rows.append({'type': 'target',\n",
    "                 'key': 'targetSingle',\n",
    "                 'row': trial['coordinates']['targetSingle']['x'],\n",
    "                 'column': trial['coordinates']['targetSingle']['y'],\n",
    "                 'number': trial['digits']['target']})\n",
    "    rows.append({'type': 'target',\n",
    "                 'key': 'targetDouble',\n",
    "                 'row': trial['coordinates']['targetDouble']['x'],\n",
    "                 'column': trial['coordinates']['targetDouble']['y'],\n",
    "                 'number': trial['digits']['target']})\n",
    "    rows.append({'type': 'target',\n",
    "                 'key': 'targetBox',\n",
    "                 'row': trial['coordinates']['targetBox']['x'],\n",
    "                 'column': trial['coordinates']['targetBox']['y'],\n",
    "                 'number': trial['digits']['target']})\n",
    "    rows.append({'type': 'distractor',\n",
    "                 'key': 'distractorSingle',\n",
    "                 'row': trial['coordinates']['distractorSingle']['x'],\n",
    "                 'column': trial['coordinates']['distractorSingle']['y'],\n",
    "                 'number': trial['digits']['distractor']})\n",
    "    rows.append({'type': 'distractor',\n",
    "                 'key': 'distractorDouble',\n",
    "                 'row': trial['coordinates']['distractorDouble']['x'],\n",
    "                 'column': trial['coordinates']['distractorDouble']['y'],\n",
    "                 'number': trial['digits']['distractor']})\n",
    "    rows.append({'type': 'distractor',\n",
    "                 'key': 'distractorBox',\n",
    "                 'row': trial['coordinates']['distractorBox']['x'],\n",
    "                 'column': trial['coordinates']['distractorBox']['y'],\n",
    "                 'number': trial['digits']['distractor']})\n",
    "    for i in range(3):\n",
    "        rows.append({'type': 'inhouse',\n",
    "                     'key': f'inhouse{i}',\n",
    "                     'row': trial['coordinates']['occupied'][i]['x'],\n",
    "                     'column': trial['coordinates']['occupied'][i]['y'],\n",
    "                     'number': trial['digits']['occupied'][i]})\n",
    "    rows.append({'type': 'empty',\n",
    "                 'key': 'emptySingle',\n",
    "                 'row': trial['coordinates']['emptySingle']['x'],\n",
    "                 'column': trial['coordinates']['emptySingle']['y'],\n",
    "                 'number': 0})\n",
    "    rows.append({'type': 'empty',\n",
    "                 'key': 'emptyDouble',\n",
    "                 'row': trial['coordinates']['emptyDouble']['x'],\n",
    "                 'column': trial['coordinates']['emptyDouble']['y'],\n",
    "                 'number': 0})\n",
    "    for i in range(3):\n",
    "        rows.append({'type': 'empty',\n",
    "                     'key': f'emptyBox{i}',\n",
    "                     'row': trial['coordinates']['emptyBox'][i]['x'],\n",
    "                     'column': trial['coordinates']['emptyBox'][i]['y'],\n",
    "                     'number': 0})\n",
    "    df = pd.DataFrame(rows)\n",
    "    df.row = df.row + 1\n",
    "    df.column = df.column + 1\n",
    "    return df\n",
    "\n",
    "\n",
    "def make_df_subject_puzzles(subject_id, data):\n",
    "    df_q = make_df_trial_puzzle(data['experimentDetails']['questionnaire'])\n",
    "    df_q['phase'] = 'questionnaire'\n",
    "    df_q['trial'] = 1\n",
    "    df_puzzles = [df_q]\n",
    "    \n",
    "    for i, trial in enumerate(data['experimentDetails']['phase1'], 1):\n",
    "        df = make_df_trial_puzzle(trial)\n",
    "        df['phase'] = 'practice'\n",
    "        df['trial'] = i\n",
    "        df_puzzles.append(df)\n",
    "        \n",
    "    for i, trial in enumerate(data['experimentDetails']['phase2'], 1):\n",
    "        df = make_df_trial_puzzle(trial)\n",
    "        df['phase'] = 'test'\n",
    "        df['trial'] = i\n",
    "        df_puzzles.append(df)\n",
    "    \n",
    "    df_puzzles = pd.concat(df_puzzles)\n",
    "    df_puzzles['subject_id'] = subject_id\n",
    "    return df_puzzles"
   ]
  },
  {
   "cell_type": "code",
   "execution_count": null,
   "metadata": {},
   "outputs": [],
   "source": [
    "# Combine the dataframes into just subject data and trial data\n",
    "\n",
    "subject_data = pd.merge(dtest_results, survey_responses, on='subject_id', how='outer')\n",
    "subject_data = pd.merge(subject_data, questionnaire_responses, on='subject_id', how='outer')\n",
    "subject_data = pd.merge(subject_data, tutorial_house, on='subject_id', how='outer')\n",
    "subject_data['sid_hash'] = utils.short_hash([d['worker_id'] for d in raw_data.values()], 6)\n",
    "trial_data = pd.merge(results, response_types, on=['subject_id', 'phase', 'trial'])"
   ]
  },
  {
   "cell_type": "code",
   "execution_count": null,
   "metadata": {},
   "outputs": [],
   "source": [
    "# Saves data about individual puzzles\n",
    "df = subject_data[subject_data.subject_id.isin(set(trial_data.subject_id))][['subject_id', 'sid_hash']]\n",
    "df_puzzles = []\n",
    "for sid, sid_hash in tqdm(df.values):\n",
    "    dfp = make_df_subject_puzzles(sid, raw_data[sid])\n",
    "    dfp['sid_hash'] = sid_hash\n",
    "    df_puzzles.append(dfp)\n",
    "df_puzzles = pd.concat(df_puzzles)"
   ]
  },
  {
   "cell_type": "code",
   "execution_count": null,
   "metadata": {
    "tags": []
   },
   "outputs": [],
   "source": [
    "# Saves data about each puzzle's house type\n",
    "df = subject_data[subject_data.subject_id.isin(set(trial_data.subject_id))][['subject_id', 'sid_hash']]\n",
    "rows = []\n",
    "for sid, sid_hash in zip(df.subject_id, df.sid_hash):\n",
    "    trial = raw_data[sid]['experimentDetails']['questionnaire']\n",
    "    \n",
    "    rows.append({'subject_id': sid,\n",
    "                 'sid_hash': sid_hash,\n",
    "                 'phase': 'questionnaire', \n",
    "                 'trial': 1,\n",
    "                 'house_type': trial['houseType']})\n",
    "    for i, trial in enumerate(raw_data[sid]['experimentDetails']['phase1'], 1):\n",
    "        ht = trial['houseType']\n",
    "        rows.append({'subject_id': sid,\n",
    "                     'sid_hash': sid_hash,\n",
    "                     'phase': 'practice', \n",
    "                     'trial': i,\n",
    "                     'house_type': trial['houseType']})\n",
    "    for i, trial in enumerate(raw_data[sid]['experimentDetails']['phase2'], 1):\n",
    "        rows.append({'subject_id': sid,\n",
    "                     'sid_hash': sid_hash,\n",
    "                     'phase': 'test', \n",
    "                     'trial': i,\n",
    "                     'house_type': trial['houseType']})\n",
    "df_house_types = pd.DataFrame(rows)"
   ]
  },
  {
   "cell_type": "code",
   "execution_count": null,
   "metadata": {},
   "outputs": [],
   "source": [
    "# Save the dataframes as TSV\n",
    "\n",
    "path = proj_path + 'data/processed/pre_R/'\n",
    "utils.mkdir(path)\n",
    "subject_data.to_csv(path + 'subjects.tsv', sep='\\t', index=False)\n",
    "trial_data.to_csv(path + 'trials.tsv', sep='\\t', index=False)\n",
    "df_puzzles.to_csv(path + 'puzzles.tsv', sep='\\t', index=False)\n",
    "df_house_types.to_csv(path + 'house_types.tsv', sep='\\t', index=False)"
   ]
  }
 ],
 "metadata": {
  "kernelspec": {
   "display_name": "Python 3 (ipykernel)",
   "language": "python",
   "name": "python3"
  },
  "language_info": {
   "codemirror_mode": {
    "name": "ipython",
    "version": 3
   },
   "file_extension": ".py",
   "mimetype": "text/x-python",
   "name": "python",
   "nbconvert_exporter": "python",
   "pygments_lexer": "ipython3",
   "version": "3.10.8"
  },
  "widgets": {
   "application/vnd.jupyter.widget-state+json": {
    "state": {},
    "version_major": 2,
    "version_minor": 0
   }
  }
 },
 "nbformat": 4,
 "nbformat_minor": 4
}
