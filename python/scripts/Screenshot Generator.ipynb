{
 "cells": [
  {
   "cell_type": "markdown",
   "metadata": {},
   "source": [
    "Be sure to set testEnvironment = true and hostURL to 'http://localhost:5001' in AppSettings.ts.\n",
    "\n",
    "The experiment must be running using \"npm start\" and the server must be running using \"python3 rest_api_endpoint.py\". The exact image crops may vary based on ChromeDriver window size, so you may need to fiddle with the exact parameters."
   ]
  },
  {
   "cell_type": "code",
   "execution_count": null,
   "metadata": {},
   "outputs": [],
   "source": [
    "proj_path = \"/Users/andrew/Desktop/projects/hidden_singles_public/\""
   ]
  },
  {
   "cell_type": "code",
   "execution_count": null,
   "metadata": {},
   "outputs": [],
   "source": [
    "from selenium import webdriver\n",
    "from PIL import Image\n",
    "from io import BytesIO\n",
    "import time\n",
    "from tqdm.auto import tqdm"
   ]
  },
  {
   "cell_type": "code",
   "execution_count": null,
   "metadata": {},
   "outputs": [],
   "source": [
    "from selenium import webdriver\n",
    "from webdriver_manager.chrome import ChromeDriverManager\n",
    "\n",
    "driver = webdriver.Chrome(ChromeDriverManager().install())\n",
    "# driver = webdriver.Chrome(executable_path=proj_path + 'chromedriver/chromedriver')"
   ]
  },
  {
   "cell_type": "code",
   "execution_count": null,
   "metadata": {},
   "outputs": [],
   "source": [
    "for screen_number in tqdm(range(123)):\n",
    "\n",
    "    driver.get(\"http://localhost:3000/?workerId=test&skipTo={}\".format(screen_number));\n",
    "    time.sleep(.25) # due to site needing to pull data from backend\n",
    "    element = driver.find_element_by_id('SudokuExperiment')\n",
    "\n",
    "    location = element.location\n",
    "    size = element.size\n",
    "    png = driver.get_screenshot_as_png()\n",
    "\n",
    "    im = Image.open(BytesIO(png)) # uses PIL library to open image in memory\n",
    "\n",
    "\n",
    "    left = location['x']\n",
    "    top = location['y']\n",
    "    right = location['x'] + size['width']\n",
    "    bottom = location['y'] + size['height']\n",
    "\n",
    "    im = im.crop((left, top, right, bottom)) # defines crop points\n",
    "    im.save(proj_path + 'figures/screenshots/screen_{}.png'.format(screen_number)) # saves new cropped image"
   ]
  },
  {
   "cell_type": "code",
   "execution_count": null,
   "metadata": {},
   "outputs": [],
   "source": [
    "imgs = []\n",
    "for screen_number in tqdm(range(123)):\n",
    "    filename = proj_path + 'figures/screenshots/screen_{}.png'.format(screen_number)\n",
    "    img = Image.open(filename).convert('RGB')\n",
    "    imgs.append(img)\n",
    "imgs[0].save(proj_path + 'figures/screenshots.pdf',\n",
    "             resolution=100, quality=100, save_all=True, append_images=imgs[1:])"
   ]
  },
  {
   "cell_type": "code",
   "execution_count": null,
   "metadata": {},
   "outputs": [],
   "source": []
  }
 ],
 "metadata": {
  "kernelspec": {
   "display_name": "Python 3",
   "language": "python",
   "name": "python3"
  },
  "language_info": {
   "codemirror_mode": {
    "name": "ipython",
    "version": 3
   },
   "file_extension": ".py",
   "mimetype": "text/x-python",
   "name": "python",
   "nbconvert_exporter": "python",
   "pygments_lexer": "ipython3",
   "version": "3.7.6"
  }
 },
 "nbformat": 4,
 "nbformat_minor": 4
}
