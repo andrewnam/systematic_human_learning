{
 "cells": [
  {
   "cell_type": "code",
   "execution_count": 1,
   "id": "b3370d94-7628-4809-818e-5485ff6b0a64",
   "metadata": {
    "tags": []
   },
   "outputs": [],
   "source": [
    "%matplotlib inline\n",
    "\n",
    "proj_path = \"/Users/andrew/Desktop/projects/hidden_singles/\""
   ]
  },
  {
   "cell_type": "code",
   "execution_count": 2,
   "id": "7225c9ad-bb0b-4b8d-8bd5-74de39b630b3",
   "metadata": {
    "tags": []
   },
   "outputs": [],
   "source": [
    "import sys\n",
    "sys.path.append(proj_path + 'python')\n",
    "\n",
    "import pandas as pd\n",
    "import numpy as np\n",
    "from tqdm.auto import tqdm\n",
    "\n",
    "from hiddensingles.misc import utils\n",
    "from PIL import Image, ImageDraw, ImageFont\n",
    "\n",
    "import warnings\n",
    "warnings.filterwarnings('ignore')\n",
    "pd.set_option('display.max_rows', 300)"
   ]
  },
  {
   "cell_type": "code",
   "execution_count": 10,
   "id": "0b2204a0-92c5-4728-a354-9e4aa00a4a13",
   "metadata": {
    "tags": []
   },
   "outputs": [],
   "source": [
    "# Colors used in the experiment\n",
    "c_bg_green = (1, 255, 112)\n",
    "c_bg_blue = (127, 219, 255)\n",
    "c_bg_purple = (218, 112, 214)\n",
    "c_bg_red = (255, 69, 0)\n",
    "c_bg_orange = (255, 165, 0)\n",
    "c_digit_blue = (0, 0, 255)"
   ]
  },
  {
   "cell_type": "code",
   "execution_count": 6,
   "id": "b347061b-9f63-4979-9b51-d6429585dc50",
   "metadata": {
    "tags": []
   },
   "outputs": [],
   "source": [
    "def img_concat_v(im1, im2):\n",
    "    dst = Image.new('RGB', (im1.width, im1.height + im2.height))\n",
    "    dst.paste(im1, (0, 0))\n",
    "    dst.paste(im2, (0, im1.height))\n",
    "    return dst\n",
    "\n",
    "def img_add_title(img, title, bg_color=(255, 255, 255)):\n",
    "    img_title = Image.new('RGB', (img.width, int(.12 * img.height)), color=bg_color)\n",
    "    draw = ImageDraw.Draw(img_title)\n",
    "    fnt = ImageFont.truetype('/Library/Fonts/Arial.ttf', int(.65 * img_title.height))\n",
    "    text_w, text_h = draw.textsize(title, font=fnt)\n",
    "    x = int((img_title.width - text_w)) / 2\n",
    "    y = int((img_title.height - text_h)) / 2\n",
    "    draw.text((x, y), title, font=fnt, fill='black')\n",
    "    return img_concat_v(img_title, img)"
   ]
  },
  {
   "cell_type": "code",
   "execution_count": 47,
   "id": "037abfb7-a033-4866-8892-9cbbc2f13eaf",
   "metadata": {
    "tags": []
   },
   "outputs": [],
   "source": [
    "def render_sudoku(df_puzzle, size=400):\n",
    "    \"\"\"\n",
    "    df_puzzle must contain the following columns:\n",
    "        key, type, row, column, number, bg_color, color\n",
    "    0s are not added to the figure\n",
    "    \"\"\"\n",
    "    line_house_width = size // 100\n",
    "    line_cell_width = size // 400\n",
    "    line_exterior_width = line_house_width * 2\n",
    "    \n",
    "    df_puzzle['bg_color'] = [c_bg_blue if t in ('inhouse', 'empty') else None for t in df_puzzle.type]\n",
    "    df_puzzle['bg_color'] = [c_bg_green if k == 'goal' else c for k, c in zip(df_puzzle.key, df_puzzle.bg_color)]\n",
    "    df_puzzle['color'] = [(0, 0, 0) if k == 'goal' else c_digit_blue for k in df_puzzle.key]\n",
    "    \n",
    "    img = Image.new('RGB', (size, size), color=(255, 255, 255))\n",
    "    img_max = size \n",
    "    house_width = int(img_max / 3)\n",
    "    cell_width = int(house_width / 3)\n",
    "\n",
    "    fnt = ImageFont.truetype('/Library/Fonts/Arial.ttf', int(.1 * size))\n",
    "    draw = ImageDraw.Draw(img)\n",
    "\n",
    "    # Add highlighted cells\n",
    "    for row, column, color in zip(df_puzzle.row, df_puzzle.column, df_puzzle.bg_color):\n",
    "        if color is not None:\n",
    "            draw.rectangle(((column-1) * cell_width,\n",
    "                            (row-1) * cell_width,\n",
    "                            column * cell_width,\n",
    "                            row * cell_width), fill=color)\n",
    "\n",
    "    # Create exterior borders\n",
    "    draw.line((0, 0) + (0, img_max), fill=0, width=line_exterior_width)\n",
    "    draw.line((0, 0) + (img_max, 0), fill=0, width=line_exterior_width)\n",
    "    draw.line((img_max, 0) + (img_max, img_max), fill=0, width=line_exterior_width)\n",
    "    draw.line((0, img_max) + (img_max, img_max), fill=0, width=line_exterior_width)\n",
    "\n",
    "    # Create house borders\n",
    "    draw.line((0, house_width) + (img_max, house_width), fill=0, width=line_house_width)\n",
    "    draw.line((0, 2 * house_width) + (img_max, 2 * house_width), fill=0, width=line_house_width)\n",
    "    draw.line((house_width, 0) + (house_width, img_max), fill=0, width=line_house_width)\n",
    "    draw.line((2 * house_width, 0) + (2 * house_width, img_max), fill=0, width=line_house_width)\n",
    "\n",
    "    # Create cell borders\n",
    "    for i in range(9):\n",
    "        draw.line((0, i * cell_width) + (img_max, i * cell_width), fill=0, width=line_cell_width)\n",
    "        draw.line((i * cell_width, 0) + (i * cell_width, img_max), fill=0, width=line_cell_width)\n",
    "\n",
    "    # Add numbers\n",
    "    for row, column, number, color in zip(df_puzzle.row, df_puzzle.column, df_puzzle.number, df_puzzle.color):\n",
    "        if number > 0:\n",
    "            draw.text((((column-1) + .27) * cell_width,\n",
    "                       ((row-1) + .025) * cell_width), str(number),\n",
    "                        font=fnt, fill=color)\n",
    "\n",
    "    return img"
   ]
  },
  {
   "cell_type": "markdown",
   "id": "069c32d4-59fa-4561-9dfc-bfc37aa19944",
   "metadata": {},
   "source": [
    "# Questionnaire V2"
   ]
  },
  {
   "cell_type": "code",
   "execution_count": 52,
   "id": "a6a14b87-7f47-4385-8558-05147aa66b0f",
   "metadata": {
    "tags": []
   },
   "outputs": [],
   "source": [
    "df_qratings2 = pd.read_csv(\"../../data/qratings/v2_responses.tsv\", sep='\\t')[['qid2', 'sid_hash']]\n",
    "df_house_types = pd.read_table(\"../../data/processed/house_types.tsv\")\n",
    "df_puzzles = pd.read_table(\"../../data/processed/puzzles.tsv\")\n",
    "df_puzzles = df_puzzles.merge(df_house_types)\n",
    "df_puzzles = df_puzzles[df_puzzles.phase == 'questionnaire']\n",
    "df_puzzles = df_qratings2.merge(df_puzzles)"
   ]
  },
  {
   "cell_type": "code",
   "execution_count": 53,
   "id": "fe731b86-885e-4e46-8852-6e285fb8fd33",
   "metadata": {
    "tags": []
   },
   "outputs": [],
   "source": [
    "images = []\n",
    "for qid2, df_puzzle in df_puzzles.groupby('qid2'):\n",
    "    img = render_sudoku(df_puzzle, 900)\n",
    "    img = img_add_title(img, f\"Subject {qid2}\")\n",
    "    images.append(img)\n",
    "    \n",
    "images[0].save(fp=\"../../figures/q_ratings/puzzles_v2.pdf\",\n",
    "               append_images=images[1:],\n",
    "               save_all=True,\n",
    "               dpi=(600, 600)) "
   ]
  }
 ],
 "metadata": {
  "kernelspec": {
   "display_name": "Python 3 (ipykernel)",
   "language": "python",
   "name": "python3"
  },
  "language_info": {
   "codemirror_mode": {
    "name": "ipython",
    "version": 3
   },
   "file_extension": ".py",
   "mimetype": "text/x-python",
   "name": "python",
   "nbconvert_exporter": "python",
   "pygments_lexer": "ipython3",
   "version": "3.10.8"
  },
  "widgets": {
   "application/vnd.jupyter.widget-state+json": {
    "state": {},
    "version_major": 2,
    "version_minor": 0
   }
  }
 },
 "nbformat": 4,
 "nbformat_minor": 5
}
