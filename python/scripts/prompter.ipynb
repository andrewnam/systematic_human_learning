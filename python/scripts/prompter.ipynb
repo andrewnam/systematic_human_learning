{
 "cells": [
  {
   "cell_type": "code",
   "execution_count": 1,
   "id": "8d45da40-46a4-401a-9627-ea056df09e1e",
   "metadata": {},
   "outputs": [],
   "source": [
    "import pandas as pd\n",
    "import json\n",
    "import numpy as np\n",
    "import openai\n",
    "import glob\n",
    "from tqdm.auto import tqdm, trange\n",
    "from implementations.misc import utils\n",
    "import re\n",
    "from collections import namedtuple"
   ]
  },
  {
   "cell_type": "code",
   "execution_count": 2,
   "id": "d4d58e5b-afec-4b6b-870c-52a289b5936c",
   "metadata": {
    "tags": []
   },
   "outputs": [],
   "source": [
    "with open(\"../../keys/openai_api_key.txt\") as f:\n",
    "    openai.api_key = f.read()\n",
    "\n",
    "# df_trials = pd.read_csv(\"../../data/processed/trials.tsv\", sep='\\t')\n",
    "# df_trials.phase = ['practice' if p == 1 else 'test' for p in df_trials.phase]\n",
    "\n",
    "# puzzle_ids = {(s, p, t): i for i, (s, p, t) in enumerate(df_trials[['subject_id', 'phase', 'trial']].values)}\n",
    "# df_trials['puzzle_id'] = [puzzle_ids[(s, p, t)] for (s, p, t) in df_trials[['subject_id', 'phase', 'trial']].values]\n",
    "\n",
    "df_puzzles = pd.read_csv(\"../../data/processed/puzzles.tsv\", sep='\\t')\n",
    "puzzle_ids = {(s, p, t): i for i, (s, p, t) in enumerate(df_puzzles[['subject_id', 'phase', 'trial']].values)}\n",
    "df_puzzles['puzzle_id'] = [puzzle_ids[(s, p, t)] for (s, p, t) in df_puzzles[['subject_id', 'phase', 'trial']].values]"
   ]
  },
  {
   "cell_type": "code",
   "execution_count": 3,
   "id": "e348d573-ee8b-46fb-af8a-558f61fb1687",
   "metadata": {
    "tags": []
   },
   "outputs": [],
   "source": [
    "df_house_types = pd.read_table('../../data/processed/house_types.tsv')\n",
    "# df_house_types = df_house_types[df_house_types.phase != 'questionnaire']\n",
    "df_house_types['puzzle_id'] = [puzzle_ids[(s, p, t)] for (s, p, t) in df_house_types[['subject_id', 'phase', 'trial']].values]"
   ]
  },
  {
   "cell_type": "code",
   "execution_count": 18,
   "id": "1c07857e-b424-448a-ad0d-7e6906f73aad",
   "metadata": {
    "tags": []
   },
   "outputs": [
    {
     "data": {
      "text/html": [
       "<div>\n",
       "<style scoped>\n",
       "    .dataframe tbody tr th:only-of-type {\n",
       "        vertical-align: middle;\n",
       "    }\n",
       "\n",
       "    .dataframe tbody tr th {\n",
       "        vertical-align: top;\n",
       "    }\n",
       "\n",
       "    .dataframe thead th {\n",
       "        text-align: right;\n",
       "    }\n",
       "</style>\n",
       "<table border=\"1\" class=\"dataframe\">\n",
       "  <thead>\n",
       "    <tr style=\"text-align: right;\">\n",
       "      <th></th>\n",
       "      <th>subject_id</th>\n",
       "      <th>sid_hash</th>\n",
       "      <th>phase</th>\n",
       "      <th>trial</th>\n",
       "      <th>key</th>\n",
       "      <th>type</th>\n",
       "      <th>row</th>\n",
       "      <th>column</th>\n",
       "      <th>number</th>\n",
       "      <th>puzzle_id</th>\n",
       "    </tr>\n",
       "  </thead>\n",
       "  <tbody>\n",
       "    <tr>\n",
       "      <th>0</th>\n",
       "      <td>1</td>\n",
       "      <td>0e8a79</td>\n",
       "      <td>practice</td>\n",
       "      <td>1</td>\n",
       "      <td>goal</td>\n",
       "      <td>target</td>\n",
       "      <td>1</td>\n",
       "      <td>1</td>\n",
       "      <td>9</td>\n",
       "      <td>14</td>\n",
       "    </tr>\n",
       "    <tr>\n",
       "      <th>1</th>\n",
       "      <td>1</td>\n",
       "      <td>0e8a79</td>\n",
       "      <td>practice</td>\n",
       "      <td>1</td>\n",
       "      <td>targetSingle</td>\n",
       "      <td>target</td>\n",
       "      <td>4</td>\n",
       "      <td>8</td>\n",
       "      <td>9</td>\n",
       "      <td>14</td>\n",
       "    </tr>\n",
       "    <tr>\n",
       "      <th>2</th>\n",
       "      <td>1</td>\n",
       "      <td>0e8a79</td>\n",
       "      <td>practice</td>\n",
       "      <td>1</td>\n",
       "      <td>targetDouble</td>\n",
       "      <td>target</td>\n",
       "      <td>3</td>\n",
       "      <td>5</td>\n",
       "      <td>9</td>\n",
       "      <td>14</td>\n",
       "    </tr>\n",
       "    <tr>\n",
       "      <th>3</th>\n",
       "      <td>1</td>\n",
       "      <td>0e8a79</td>\n",
       "      <td>practice</td>\n",
       "      <td>1</td>\n",
       "      <td>targetBox</td>\n",
       "      <td>target</td>\n",
       "      <td>7</td>\n",
       "      <td>3</td>\n",
       "      <td>9</td>\n",
       "      <td>14</td>\n",
       "    </tr>\n",
       "    <tr>\n",
       "      <th>4</th>\n",
       "      <td>1</td>\n",
       "      <td>0e8a79</td>\n",
       "      <td>practice</td>\n",
       "      <td>1</td>\n",
       "      <td>distractorSingle</td>\n",
       "      <td>distractor</td>\n",
       "      <td>5</td>\n",
       "      <td>5</td>\n",
       "      <td>5</td>\n",
       "      <td>14</td>\n",
       "    </tr>\n",
       "    <tr>\n",
       "      <th>...</th>\n",
       "      <td>...</td>\n",
       "      <td>...</td>\n",
       "      <td>...</td>\n",
       "      <td>...</td>\n",
       "      <td>...</td>\n",
       "      <td>...</td>\n",
       "      <td>...</td>\n",
       "      <td>...</td>\n",
       "      <td>...</td>\n",
       "      <td>...</td>\n",
       "    </tr>\n",
       "    <tr>\n",
       "      <th>365845</th>\n",
       "      <td>271</td>\n",
       "      <td>6ffc51</td>\n",
       "      <td>test</td>\n",
       "      <td>64</td>\n",
       "      <td>emptySingle</td>\n",
       "      <td>empty</td>\n",
       "      <td>2</td>\n",
       "      <td>8</td>\n",
       "      <td>0</td>\n",
       "      <td>365849</td>\n",
       "    </tr>\n",
       "    <tr>\n",
       "      <th>365846</th>\n",
       "      <td>271</td>\n",
       "      <td>6ffc51</td>\n",
       "      <td>test</td>\n",
       "      <td>64</td>\n",
       "      <td>emptyDouble</td>\n",
       "      <td>empty</td>\n",
       "      <td>9</td>\n",
       "      <td>8</td>\n",
       "      <td>0</td>\n",
       "      <td>365849</td>\n",
       "    </tr>\n",
       "    <tr>\n",
       "      <th>365847</th>\n",
       "      <td>271</td>\n",
       "      <td>6ffc51</td>\n",
       "      <td>test</td>\n",
       "      <td>64</td>\n",
       "      <td>emptyBox0</td>\n",
       "      <td>empty</td>\n",
       "      <td>4</td>\n",
       "      <td>8</td>\n",
       "      <td>0</td>\n",
       "      <td>365849</td>\n",
       "    </tr>\n",
       "    <tr>\n",
       "      <th>365848</th>\n",
       "      <td>271</td>\n",
       "      <td>6ffc51</td>\n",
       "      <td>test</td>\n",
       "      <td>64</td>\n",
       "      <td>emptyBox1</td>\n",
       "      <td>empty</td>\n",
       "      <td>5</td>\n",
       "      <td>8</td>\n",
       "      <td>0</td>\n",
       "      <td>365849</td>\n",
       "    </tr>\n",
       "    <tr>\n",
       "      <th>365849</th>\n",
       "      <td>271</td>\n",
       "      <td>6ffc51</td>\n",
       "      <td>test</td>\n",
       "      <td>64</td>\n",
       "      <td>emptyBox2</td>\n",
       "      <td>empty</td>\n",
       "      <td>6</td>\n",
       "      <td>8</td>\n",
       "      <td>0</td>\n",
       "      <td>365849</td>\n",
       "    </tr>\n",
       "  </tbody>\n",
       "</table>\n",
       "<p>365850 rows × 10 columns</p>\n",
       "</div>"
      ],
      "text/plain": [
       "        subject_id sid_hash     phase  trial               key        type  \\\n",
       "0                1   0e8a79  practice      1              goal      target   \n",
       "1                1   0e8a79  practice      1      targetSingle      target   \n",
       "2                1   0e8a79  practice      1      targetDouble      target   \n",
       "3                1   0e8a79  practice      1         targetBox      target   \n",
       "4                1   0e8a79  practice      1  distractorSingle  distractor   \n",
       "...            ...      ...       ...    ...               ...         ...   \n",
       "365845         271   6ffc51      test     64       emptySingle       empty   \n",
       "365846         271   6ffc51      test     64       emptyDouble       empty   \n",
       "365847         271   6ffc51      test     64         emptyBox0       empty   \n",
       "365848         271   6ffc51      test     64         emptyBox1       empty   \n",
       "365849         271   6ffc51      test     64         emptyBox2       empty   \n",
       "\n",
       "        row  column  number  puzzle_id  \n",
       "0         1       1       9         14  \n",
       "1         4       8       9         14  \n",
       "2         3       5       9         14  \n",
       "3         7       3       9         14  \n",
       "4         5       5       5         14  \n",
       "...     ...     ...     ...        ...  \n",
       "365845    2       8       0     365849  \n",
       "365846    9       8       0     365849  \n",
       "365847    4       8       0     365849  \n",
       "365848    5       8       0     365849  \n",
       "365849    6       8       0     365849  \n",
       "\n",
       "[365850 rows x 10 columns]"
      ]
     },
     "execution_count": 18,
     "metadata": {},
     "output_type": "execute_result"
    }
   ],
   "source": [
    "df_puzzles"
   ]
  },
  {
   "cell_type": "code",
   "execution_count": 28,
   "id": "8657cc1c-3455-484c-8e22-92736e536bb1",
   "metadata": {
    "tags": []
   },
   "outputs": [],
   "source": [
    "class ddict(dict):\n",
    "    \"\"\"dot.notation access to dictionary attributes\"\"\"\n",
    "    __getattr__ = dict.get\n",
    "    __setattr__ = dict.__setitem__\n",
    "    __delattr__ = dict.__delitem__"
   ]
  },
  {
   "cell_type": "code",
   "execution_count": 29,
   "id": "d2a149fa-b142-4e6c-98bd-540c542841aa",
   "metadata": {
    "tags": []
   },
   "outputs": [],
   "source": [
    "def df_to_array(df):\n",
    "    df = df[df.type != 'empty']\n",
    "    array = np.zeros((9, 9), int).astype(str)\n",
    "    for r, c, coord, v in df[['row', 'column', 'key', 'number']].values:\n",
    "        d = 'X' if coord == 'goal' else v\n",
    "        array[r-1, c-1] = d\n",
    "    return array\n",
    "\n",
    "def draw_grid(array, use_numbers=False):\n",
    "    \"\"\"\n",
    "    If goal = (row, column) is provided, places an X at the goal location\n",
    "    \"\"\"\n",
    "    if use_numbers:\n",
    "        return str(array)[1:-1].replace('\\n ', '\\n').replace(\"'\", '')\n",
    "    \n",
    "    rows = [\"+-------+-------+-------+\"]\n",
    "    for r in range(9):\n",
    "        row = ['|']\n",
    "        for c in range(9):\n",
    "            d = array[r, c]\n",
    "            row.append('.' if d == '0' else d)\n",
    "            if c in (2, 5, 8):\n",
    "                row.append('|')\n",
    "        row = ' '.join(row)\n",
    "        rows.append(row)\n",
    "\n",
    "        if r in (2, 5, 8):\n",
    "            rows.append(\"+-------+-------+-------+\")\n",
    "    s = '\\n'.join(rows)\n",
    "    return s"
   ]
  },
  {
   "cell_type": "code",
   "execution_count": 30,
   "id": "0495fd40-adbd-49c6-9d09-7a27cf1448b4",
   "metadata": {
    "tags": []
   },
   "outputs": [],
   "source": [
    "def get_list_format(df_puzzle):\n",
    "    coords = []\n",
    "    df = df_puzzle[df_puzzle.type != 'empty'].sample(frac=1)\n",
    "    df = df[df.key != 'goal']\n",
    "    for r, c, v in df[['row', 'column', 'number']].values:\n",
    "        if v > 0:\n",
    "            coords.append(f\"(row {r}, column {c}) contains {v}\")\n",
    "    return coords"
   ]
  },
  {
   "cell_type": "code",
   "execution_count": 35,
   "id": "ae608125-cd71-4003-9ea3-d68fd03fc6a2",
   "metadata": {
    "tags": []
   },
   "outputs": [],
   "source": [
    "def create_hs_list_prompt(df_puzzle, df_house_types):\n",
    "    df_puzzle = df_puzzle[df_puzzle.type != 'empty']\n",
    "    target = df_puzzle[df_puzzle.type == 'target'].number.values[0]\n",
    "    goal = df_puzzle[df_puzzle.key == 'goal'][['row', 'column']].values[0]\n",
    "    df_puzzle = df_puzzle[df_puzzle.key != 'goal'].sort_values(['row', 'column'])\n",
    "    house_type = df_puzzle[['subject_id', 'phase', 'trial']].head(1).merge(df_house_types).house_type[0]\n",
    "    house_index = goal[0] if house_type == 'row' else goal[1]\n",
    "    # question = \"I am a highly intelligent puzzle solving bot.\\n\"\n",
    "    array = df_to_array(df_puzzle)\n",
    "    question = [\"Q: Consider a Sudoku grid with the following numbers:\"]\n",
    "    question += get_list_format(df_puzzle)\n",
    "    question.append(f'What number must (row {goal[0]}, column {goal[1]}) contain?')\n",
    "    question.append(f'Hint: use the hidden single technique along {house_type} {house_index}.')\n",
    "    question.append(f\"A: (row {goal[0]}, column {goal[1]}) must contain\")\n",
    "    question = '\\n'.join(question)\n",
    "    answer = f'{target}'\n",
    "    return question, answer"
   ]
  },
  {
   "cell_type": "code",
   "execution_count": 62,
   "id": "d597fefe-95c1-4ea7-9974-fcbaf7156e09",
   "metadata": {
    "tags": []
   },
   "outputs": [],
   "source": [
    "def create_hs_array_prompt(df_puzzle, df_house_types):\n",
    "    target = df_puzzle[df_puzzle.type == 'target'].number.values[0]\n",
    "    goal = df_puzzle[df_puzzle.key == 'goal'][['row', 'column']].values[0]\n",
    "    house_type = df_puzzle[['subject_id', 'phase', 'trial']].head(1).merge(df_house_types).house_type[0]\n",
    "\n",
    "    array = df_to_array(df_puzzle)\n",
    "    question = [\"Q: Consider a Sudoku grid with the following numbers:\"]\n",
    "    question.append(draw_grid(array, use_numbers=True))\n",
    "    question.append(f'What number must X be?')\n",
    "    question.append(f'Hint: use the hidden single technique along the {house_type} that contains X.')\n",
    "    question.append(f\"A: X must be\")\n",
    "    question = '\\n'.join(question)\n",
    "    answer = f'{target}'\n",
    "    return question, answer"
   ]
  },
  {
   "cell_type": "code",
   "execution_count": null,
   "id": "c175659d-995c-4286-a425-475b3c93030b",
   "metadata": {},
   "outputs": [],
   "source": []
  },
  {
   "cell_type": "code",
   "execution_count": 63,
   "id": "6d3bdc8c-337a-4340-ae78-fb5fbfeb65fe",
   "metadata": {
    "tags": []
   },
   "outputs": [],
   "source": [
    "def find_last_number(s):\n",
    "    return int(re.findall(\"[0-9]+\", s)[-1])"
   ]
  },
  {
   "cell_type": "markdown",
   "id": "f7d5b695-ab51-4544-be33-c5ad64349022",
   "metadata": {},
   "source": [
    "# Hidden Single"
   ]
  },
  {
   "cell_type": "code",
   "execution_count": 69,
   "id": "7240dae6-e131-4f99-9b7a-151d7bde1758",
   "metadata": {
    "tags": []
   },
   "outputs": [
    {
     "name": "stdout",
     "output_type": "stream",
     "text": [
      "Q: Consider a Sudoku grid with the following numbers:\n",
      "(row 6, column 7) contains 9\n",
      "(row 7, column 4) contains 6\n",
      "(row 2, column 1) contains 7\n",
      "(row 8, column 2) contains 6\n",
      "(row 9, column 2) contains 9\n",
      "(row 3, column 4) contains 9\n",
      "(row 4, column 1) contains 5\n",
      "(row 3, column 9) contains 6\n",
      "(row 5, column 1) contains 8\n",
      "What number must (row 1, column 1) contain?\n",
      "Hint: use the hidden single technique along column 1.\n",
      "A: (row 1, column 1) must contain\n"
     ]
    }
   ],
   "source": [
    "mode = 'list'\n",
    "# mode = 'array'\n",
    "n = 50\n",
    "hs_pids = df_house_types.sample(n, random_state=0).puzzle_id.values\n",
    "df = df_puzzles[df_puzzles.puzzle_id.isin(hs_pids)]\n",
    "\n",
    "rows = []\n",
    "for puzzle_id, df_puzzle in df.groupby('puzzle_id'):\n",
    "    array = df_to_array(df_puzzle)\n",
    "    grid = draw_grid(array)\n",
    "    if mode == 'list':\n",
    "        question, answer = create_hs_list_prompt(df_puzzle, df_house_types)\n",
    "    else:\n",
    "        question, answer = create_hs_array_prompt(df_puzzle, df_house_types)\n",
    "    rows.append({'puzzle_id': puzzle_id, 'array': array, 'grid': grid, 'question': question, 'answer': answer})\n",
    "df_prompts = pd.DataFrame(rows)\n",
    "print(df_prompts.question.values[0])"
   ]
  },
  {
   "cell_type": "code",
   "execution_count": 70,
   "id": "bf377138-54a6-4d08-aa2f-30954f3740d3",
   "metadata": {
    "tags": []
   },
   "outputs": [
    {
     "data": {
      "application/vnd.jupyter.widget-view+json": {
       "model_id": "1d44f1f9301a4c57abba867e346ee198",
       "version_major": 2,
       "version_minor": 0
      },
      "text/plain": [
       "  0%|          | 0/50 [00:00<?, ?it/s]"
      ]
     },
     "metadata": {},
     "output_type": "display_data"
    }
   ],
   "source": [
    "model = \"text-davinci-003\"\n",
    "responses = []\n",
    "for prompt in tqdm(df_prompts.question.values):\n",
    "    prompt = \"I am a highly intelligent puzzle solving bot.\\n\" + prompt\n",
    "    response = openai.Completion.create(\n",
    "      model=model,\n",
    "      prompt=prompt,\n",
    "      temperature=0,\n",
    "      max_tokens=100,\n",
    "      top_p=1,\n",
    "      frequency_penalty=0.0,\n",
    "      presence_penalty=0.0,\n",
    "      stop=[\"\\n\"]\n",
    "    )\n",
    "    responses.append(response)"
   ]
  },
  {
   "cell_type": "code",
   "execution_count": 71,
   "id": "91875c8b-02d8-4e69-98e4-8c9650f55cee",
   "metadata": {},
   "outputs": [],
   "source": [
    "entries = []\n",
    "total_correct = 0\n",
    "for i, (g, q, a, r) in enumerate(zip(df_prompts.grid, df_prompts.question, df_prompts.answer, responses)):\n",
    "    r = r['choices'][0]['text']\n",
    "    correct = int(a) == find_last_number(r)\n",
    "    total_correct += correct\n",
    "    correct = 'Correct' if correct else 'Incorrect'\n",
    "    entry = [f\"Problem {i+1}: {correct}\", \n",
    "             g, \n",
    "             \"Prompt\", q, \n",
    "             f\"Expected: {a}\", \n",
    "             f\"Response: {r}\"]\n",
    "    entry = '\\n'.join(entry)\n",
    "    entries.append(entry)\n",
    "entries.insert(0, f\"Accuracy: {total_correct} of {len(entries)}\")\n",
    "entries = '\\n\\n'.join(entries)\n",
    "\n",
    "dirname = f\"../../data/llm/{model}/\"\n",
    "utils.mkdir(dirname)\n",
    "with open(dirname + f\"hidden_single_{mode}.txt\", 'w') as f:\n",
    "    f.write(entries)"
   ]
  },
  {
   "cell_type": "code",
   "execution_count": 72,
   "id": "29b154e4-f7b7-48f3-954c-30610a1cdc5a",
   "metadata": {
    "tags": []
   },
   "outputs": [],
   "source": [
    "df_problems = df_prompts[['puzzle_id', 'question', 'answer']].copy()\n",
    "df_problems.answer = [find_last_number(r) for r in df_problems.answer]\n",
    "df_problems['response'] = [r['choices'][0]['text'] for r in responses]\n",
    "df_problems['r_parsed'] = [find_last_number(r) for r in df_problems.response]\n",
    "df_problems['correct'] = df_problems.answer == df_problems.r_parsed\n",
    "df_problems.to_csv(dirname + f\"hidden_single_{mode}.tsv\", sep='\\t', index=False)"
   ]
  },
  {
   "cell_type": "code",
   "execution_count": 172,
   "id": "a18e3ebd-fe04-44af-8c7c-1ca1ff430c67",
   "metadata": {
    "tags": []
   },
   "outputs": [
    {
     "data": {
      "text/plain": [
       "11"
      ]
     },
     "execution_count": 172,
     "metadata": {},
     "output_type": "execute_result"
    }
   ],
   "source": [
    "# # If the models were guessing arbitrarily, then we'd expect an agreement rate of 25%.\n",
    "# # Using binomial distribution, P(X >= 14) = 0.00091\n",
    "\n",
    "# with open(dirname + f\"hidden_single_list.txt\") as f:\n",
    "#     f_list = f.readlines()\n",
    "# with open(dirname + f\"hidden_single_array.txt\") as f:\n",
    "#     f_array = f.readlines()\n",
    "\n",
    "# list_responses = np.array([find_last_number(s) for s in f_list if s[:8] == 'Response'])\n",
    "# array_responses = np.array([find_last_number(s) for s in f_array if s[:8] == 'Response'])\n",
    "# (list_responses == array_responses).sum()"
   ]
  },
  {
   "cell_type": "markdown",
   "id": "243f64a5-1634-4166-b495-68116c18990b",
   "metadata": {
    "tags": []
   },
   "source": [
    "# 4-shot Hidden Single"
   ]
  },
  {
   "cell_type": "code",
   "execution_count": 91,
   "id": "55297c45-a46b-44d2-90c1-30e890f132df",
   "metadata": {
    "tags": []
   },
   "outputs": [
    {
     "data": {
      "application/vnd.jupyter.widget-view+json": {
       "model_id": "d5393fe2b4244c31a337ff1bf03c60ea",
       "version_major": 2,
       "version_minor": 0
      },
      "text/plain": [
       "  0%|          | 0/200 [00:00<?, ?it/s]"
      ]
     },
     "metadata": {},
     "output_type": "display_data"
    }
   ],
   "source": [
    "# mode = 'list'\n",
    "mode = 'array'\n",
    "k = 4\n",
    "\n",
    "df = df_house_types[~df_house_types.puzzle_id.isin(hs_pids)]\n",
    "df = df.sample(n*k, random_state=0).reset_index(drop=True)\n",
    "df = df_puzzles[df_puzzles.puzzle_id.isin(df.puzzle_id)]\n",
    "\n",
    "rows = []\n",
    "for pid, df_puzzle in tqdm(df.groupby('puzzle_id')):\n",
    "    puzzle_id = df_puzzle.puzzle_id.values[0]\n",
    "    array = df_to_array(df_puzzle)\n",
    "    if mode == 'list':\n",
    "        question, answer = create_hs_list_prompt(df_puzzle, df_house_types)\n",
    "    else:\n",
    "        question, answer = create_hs_array_prompt(df_puzzle, df_house_types)\n",
    "    rows.append({'puzzle_id': puzzle_id, 'question': question, 'answer': answer})\n",
    "df_prompts = pd.DataFrame(rows)\n",
    "df_prompts['problem_id'] = np.repeat(np.arange(len(df_prompts) / k, dtype=int), k)"
   ]
  },
  {
   "cell_type": "code",
   "execution_count": 92,
   "id": "dcf1644f-e38a-4705-ae43-d8dfc05edb7b",
   "metadata": {
    "tags": []
   },
   "outputs": [],
   "source": [
    "rows = []\n",
    "for target_pid, (problem_id, df) in zip(hs_pids, df_prompts.groupby('problem_id')):\n",
    "    df_puzzle = df_puzzles[df_puzzles.puzzle_id == target_pid]\n",
    "    array = df_to_array(df_puzzle)\n",
    "    if mode == 'list':\n",
    "        question, answer = create_hs_list_prompt(df_puzzle, df_house_types)\n",
    "    else:\n",
    "        question, answer = create_hs_array_prompt(df_puzzle, df_house_types)\n",
    "    support = '\\n\\n'.join(df.question + ' ' + df.answer)\n",
    "    prompt = support + '\\n\\n' + question\n",
    "    row = {'problem_id': problem_id, 'prompt': prompt, 'answer': answer, 'pid_target': target_pid}\n",
    "    for i, puzzle_id in enumerate(df.puzzle_id, 1):\n",
    "        row[f\"pid_{i}\"] = puzzle_id\n",
    "    rows.append(row)\n",
    "    \n",
    "df_problems = pd.DataFrame(rows)\n",
    "df_problems.answer = [find_last_number(a) for a in df_problems.answer]"
   ]
  },
  {
   "cell_type": "code",
   "execution_count": 93,
   "id": "4a665413-4a63-4acf-a2bf-2ddd5aba08a4",
   "metadata": {
    "tags": []
   },
   "outputs": [
    {
     "data": {
      "application/vnd.jupyter.widget-view+json": {
       "model_id": "40eabffbf4eb4ccda990512fc9ab569f",
       "version_major": 2,
       "version_minor": 0
      },
      "text/plain": [
       "  0%|          | 0/50 [00:00<?, ?it/s]"
      ]
     },
     "metadata": {},
     "output_type": "display_data"
    }
   ],
   "source": [
    "model = \"text-davinci-003\"\n",
    "\n",
    "responses = []\n",
    "for prompt in tqdm(df_problems.prompt):\n",
    "    p = \"I am a highly intelligent puzzle solving bot.\\n\\n\" + prompt\n",
    "    response = openai.Completion.create(\n",
    "      model=model,\n",
    "      prompt=p,\n",
    "      temperature=0,\n",
    "      max_tokens=100,\n",
    "      top_p=1,\n",
    "      frequency_penalty=0.0,\n",
    "      presence_penalty=0.0,\n",
    "      stop=[\"\\n\"]\n",
    "    )\n",
    "    responses.append(response['choices'][0]['text'])\n",
    "df_problems['response'] = responses\n",
    "df_problems['r_parsed'] = [find_last_number(r) for r in df_problems.response]\n",
    "df_problems['correct'] = df_problems.answer == df_problems.r_parsed"
   ]
  },
  {
   "cell_type": "code",
   "execution_count": 94,
   "id": "835f054d-41f3-4652-b804-9e0099b5455e",
   "metadata": {
    "tags": []
   },
   "outputs": [],
   "source": [
    "dirname = f\"../../data/llm/{model}/\"\n",
    "utils.mkdir(dirname)\n",
    "df_problems.to_csv(dirname + f\"hidden_single_k4_{mode}.tsv\", sep='\\t', index=False)"
   ]
  },
  {
   "cell_type": "code",
   "execution_count": 95,
   "id": "4aee7475-aa6b-4bde-b0f4-acb21e3f865e",
   "metadata": {
    "tags": []
   },
   "outputs": [],
   "source": [
    "entries = []\n",
    "total_correct = df_problems.correct.sum()\n",
    "for record in df_problems.to_records():\n",
    "    correct = 'Correct' if record.correct else 'Incorrect'\n",
    "    entry = [f\"problem_id {record.problem_id}: {record.correct}\", \n",
    "             \"Prompt\", record.prompt, \n",
    "             f\"Expected: {record.answer}\", \n",
    "             f\"Response: {record.response}\"]\n",
    "    entry = '\\n'.join(entry)\n",
    "    entries.append(entry)\n",
    "entries.insert(0, f\"Accuracy: {total_correct} of {len(entries)}\")\n",
    "entries = '\\n\\n'.join(entries)\n",
    "with open(dirname + f\"hidden_single_k4_{mode}.txt\", 'w') as f:\n",
    "    f.write(entries)"
   ]
  },
  {
   "cell_type": "code",
   "execution_count": 96,
   "id": "0840fe92-7c28-41aa-af0c-ab38bf6cc867",
   "metadata": {
    "tags": []
   },
   "outputs": [
    {
     "data": {
      "text/plain": [
       "0.08"
      ]
     },
     "execution_count": 96,
     "metadata": {},
     "output_type": "execute_result"
    }
   ],
   "source": [
    "df_problems.correct.mean()"
   ]
  },
  {
   "cell_type": "markdown",
   "id": "d3c24d5c-566e-4183-b352-73aa5af47a02",
   "metadata": {},
   "source": [
    "# With CoT - positive only, k=4"
   ]
  },
  {
   "cell_type": "code",
   "execution_count": 152,
   "id": "b158244a-235d-439a-ad0b-a263fc3530db",
   "metadata": {
    "tags": []
   },
   "outputs": [],
   "source": [
    "def get_positive_explanation(df_puzzle, df_house_types):\n",
    "    contents = ddict(**{r.key: f\"(row {r.row}, column {r.column})\" for r in df_puzzle.to_records()})\n",
    "    house_type = df_puzzle[['subject_id', 'phase', 'trial']].head(1).merge(df_house_types).house_type[0]\n",
    "    goal_row, goal_column, target = df_puzzle[df_puzzle.key == 'goal'][['row', 'column', 'number']].values[0]\n",
    "    distractor = df_puzzle[df_puzzle.type == 'distractor'].number.values[0]\n",
    "    house = f'row {goal_row}' if house_type == 'row' else f'column {goal_column}'\n",
    "    orthogonal = 'column' if house_type == 'row' else 'row'\n",
    "    \n",
    "    answer = f\"\"\"\n",
    "        Between the two numbers that appear 3 times on the grid, \n",
    "        {target} and {distractor},\n",
    "        we arbitrarily choose {target} as a candidate to check whether it can go in the other cells. \n",
    "        {target} cannot go in {contents.inhouse0}, {contents.inhouse1}, or {contents.inhouse2}\n",
    "        because these cells already have numbers in them.\n",
    "        {contents.emptyBox0}, {contents.emptyBox1}, and {contents.emptyBox2}\n",
    "        cannot contain {target} because they share a 3x3 box with {target} in {contents.targetBox}.\n",
    "        {contents.emptySingle} cannot contain {target} because it shares a {orthogonal} with {target} in \n",
    "        {contents.targetSingle}, and {contents.emptyDouble} cannot contain {target} \n",
    "        because it shares a {orthogonal} with {target} in {contents.targetDouble}.\n",
    "        Since we have eliminated all other eight cells in {house} as potential locations to place to put the {target},\n",
    "        we can conclude that {contents.goal} must contain the {target}.\n",
    "    \"\"\"\n",
    "    return ' '.join(answer.split())"
   ]
  },
  {
   "cell_type": "code",
   "execution_count": 153,
   "id": "38e1cb3f-eea2-4f4f-81ce-8058f601232a",
   "metadata": {
    "tags": []
   },
   "outputs": [],
   "source": [
    "def get_negative_explanation(df_puzzle, df_house_types):\n",
    "    contents = ddict(**{r.key: f\"(row {r.row}, column {r.column})\" for r in df_puzzle.to_records()})\n",
    "    house_type = df_puzzle[['subject_id', 'phase', 'trial']].head(1).merge(df_house_types).house_type[0]\n",
    "    goal_row, goal_column, target = df_puzzle[df_puzzle.key == 'goal'][['row', 'column', 'number']].values[0]\n",
    "    distractor = df_puzzle[df_puzzle.type == 'distractor'].number.values[0]\n",
    "    house = f'row {goal_row}' if house_type == 'row' else f'column {goal_column}'\n",
    "    orthogonal = 'column' if house_type == 'row' else 'row'\n",
    "    \n",
    "    answer = f\"\"\"\n",
    "        Between the two numbers that appear 3 times on the grid, \n",
    "        {distractor} and {target},\n",
    "        we arbitrarily choose {distractor} as a candidate to check whether it can go in the other cells. \n",
    "        {distractor} cannot go in {contents.inhouse0}, {contents.inhouse1}, or {contents.inhouse2}\n",
    "        because these cells already have numbers in them.\n",
    "        {contents.emptyBox0}, {contents.emptyBox1}, and {contents.emptyBox2}\n",
    "        cannot contain {distractor} because they share a 3x3 box with {distractor} in {contents.distractorBox}.\n",
    "        {contents.emptyDouble} cannot contain {distractor} because it shares a {orthogonal} with {distractor} in \n",
    "        {contents.distractorDouble}. However, there are no numbers that prevent either {contents.goal} or \n",
    "        {contents.emptySingle} from containing {distractor}, so we cannot be certain about either.\n",
    "        Choosing {target} as the new candidate and applying a similar logic, we can see that the only cell in {house} that can contain\n",
    "        {target} is {contents.goal}, so we can conclude that the answer is {target}.\n",
    "    \"\"\"\n",
    "    return ' '.join(answer.split())"
   ]
  },
  {
   "cell_type": "code",
   "execution_count": 154,
   "id": "4217c664-4482-4b84-977e-9e87329fe376",
   "metadata": {
    "tags": []
   },
   "outputs": [],
   "source": [
    "def get_shortcut_explanation(df_puzzle, df_house_types):\n",
    "    contents = ddict(**{r.key: f\"(row {r.row}, column {r.column})\" for r in df_puzzle.to_records()})\n",
    "    house_type = df_puzzle[['subject_id', 'phase', 'trial']].head(1).merge(df_house_types).house_type[0]\n",
    "    goal_row, goal_column, target = df_puzzle[df_puzzle.key == 'goal'][['row', 'column', 'number']].values[0]\n",
    "    distractor = df_puzzle[df_puzzle.type == 'distractor'].number.values[0]\n",
    "    house = f'row {goal_row}' if house_type == 'row' else f'column {goal_column}'\n",
    "    orthogonal = 'column' if house_type == 'row' else 'row'\n",
    "    \n",
    "    answer = f\"\"\"\n",
    "        We check whether the two numbers that appear 3 times on the grid, {target} and {distractor},\n",
    "        can go in the other cells.\n",
    "        {contents.emptySingle} shares a {house_type} with {target} but not {distractor},\n",
    "        so we can conclude that the answer is {target}.\n",
    "    \"\"\"\n",
    "    return ' '.join(answer.split())"
   ]
  },
  {
   "cell_type": "code",
   "execution_count": null,
   "id": "83cf4442-4fb5-4305-ac13-ef12c449329d",
   "metadata": {
    "tags": []
   },
   "outputs": [],
   "source": []
  },
  {
   "cell_type": "code",
   "execution_count": 155,
   "id": "c013a12b-257a-4c77-948a-65d28d739fcc",
   "metadata": {
    "tags": []
   },
   "outputs": [],
   "source": [
    "def create_hs_explanation_list_prompt(df_puzzle, df_house_types):\n",
    "    target = df_puzzle[df_puzzle.type == 'target'].number.values[0]\n",
    "    goal = df_puzzle[df_puzzle.key == 'goal'][['row', 'column']].values[0]\n",
    "    house_type = df_puzzle[['subject_id', 'phase', 'trial']].head(1).merge(df_house_types).house_type[0]\n",
    "    house_index = goal[0] if house_type == 'row' else goal[1]\n",
    "    \n",
    "    array = df_to_array(df_puzzle)\n",
    "    question = [\"Q: Consider a Sudoku grid with the following numbers:\"]\n",
    "    question += get_list_format(df_puzzle)\n",
    "    # for r, c, v in df_puzzle[['row', 'column', 'value']].values:\n",
    "    #     if v > 0:\n",
    "    #         question.append(f\"(row {r}, column {c}) contains {v}\")\n",
    "    question.append(f'What number must (row {goal[0]}, column {goal[1]}) contain?')\n",
    "    question.append(f'Hint: use the hidden single technique along {house_type} {house_index}.')\n",
    "    prefix = f\"\"\"\n",
    "        A: To solve for (row {goal[0]}, column {goal[1]}), \n",
    "        we need to find the number that cannot go in any other cell in its {house_type}.\n",
    "    \"\"\"\n",
    "    question.append(' '.join(prefix.split()))\n",
    "    question = '\\n'.join(question)\n",
    "    answer = f'{target}'\n",
    "    return question, answer"
   ]
  },
  {
   "cell_type": "code",
   "execution_count": 156,
   "id": "2b5a6fdf-d3be-4c85-9a5c-765090eae925",
   "metadata": {
    "tags": []
   },
   "outputs": [],
   "source": [
    "def create_hs_explanation_array_prompt(df_puzzle, df_house_types):\n",
    "    target = df_puzzle[df_puzzle.type == 'target'].number.values[0]\n",
    "    goal = df_puzzle[df_puzzle.key == 'goal'][['row', 'column']].values[0]\n",
    "    house_type = df_puzzle[['subject_id', 'phase', 'trial']].head(1).merge(df_house_types).house_type[0]\n",
    "\n",
    "    array = df_to_array(df_puzzle)\n",
    "    question = [\"Q: Consider a Sudoku grid with the following numbers:\"]\n",
    "    question.append(draw_grid(array, use_numbers=True))\n",
    "    question.append(f'What number must X be?')\n",
    "    question.append(f'Hint: use the hidden single technique along {house_type} that contains X.')\n",
    "    prefix = f\"\"\"\n",
    "        A: To solve for X in (row {goal[0]}, column {goal[1]}), \n",
    "        we need to find the number that cannot go in any other cell in its {house_type}.\n",
    "    \"\"\"\n",
    "    question.append(' '.join(prefix.split()))\n",
    "    question = '\\n'.join(question)\n",
    "    answer = f'{target}'\n",
    "    return question, answer"
   ]
  },
  {
   "cell_type": "code",
   "execution_count": 157,
   "id": "dee8397c-99b1-4c0f-8094-64c47fa0e84b",
   "metadata": {
    "tags": []
   },
   "outputs": [
    {
     "data": {
      "application/vnd.jupyter.widget-view+json": {
       "model_id": "db6574b50dc9448b8b710ca450ab4bfd",
       "version_major": 2,
       "version_minor": 0
      },
      "text/plain": [
       "  0%|          | 0/200 [00:00<?, ?it/s]"
      ]
     },
     "metadata": {},
     "output_type": "display_data"
    }
   ],
   "source": [
    "# mode = 'list'\n",
    "mode = 'array'\n",
    "explanation_type = 'mix' # positive, mix\n",
    "k = 4\n",
    "\n",
    "df = df_house_types[~df_house_types.puzzle_id.isin(hs_pids)]\n",
    "df = df.sample(n*k, random_state=0).reset_index(drop=True)\n",
    "df = df_puzzles[df_puzzles.puzzle_id.isin(df.puzzle_id)]\n",
    "\n",
    "rows = []\n",
    "for i, (pid, df_puzzle) in enumerate(tqdm(df.groupby('puzzle_id'))):\n",
    "    puzzle_id = df_puzzle.puzzle_id.values[0]\n",
    "    array = df_to_array(df_puzzle)\n",
    "    if mode == 'list':\n",
    "        question, answer = create_hs_explanation_list_prompt(df_puzzle, df_house_types)\n",
    "    else:\n",
    "        question, answer = create_hs_explanation_array_prompt(df_puzzle, df_house_types)\n",
    "    if explanation_type == 'shortcut':\n",
    "        explanation = get_shortcut_explanation(df_puzzle, df_house_types)\n",
    "    elif explanation_type == 'mix' and i%2 == 1:\n",
    "        explanation = get_negative_explanation(df_puzzle, df_house_types)\n",
    "    else:\n",
    "        explanation = get_positive_explanation(df_puzzle, df_house_types)\n",
    "    rows.append({'puzzle_id': puzzle_id, 'question': question, 'answer': answer, 'explanation': explanation})\n",
    "df_prompts = pd.DataFrame(rows)\n",
    "df_prompts['problem_id'] = np.repeat(np.arange(len(df_prompts) / k, dtype=int), k)"
   ]
  },
  {
   "cell_type": "code",
   "execution_count": null,
   "id": "fe0a1cbc-7c3d-4c0a-a762-556fcfad1f2b",
   "metadata": {},
   "outputs": [],
   "source": []
  },
  {
   "cell_type": "code",
   "execution_count": 158,
   "id": "e8412980-d486-45af-bec6-b034057dac2c",
   "metadata": {
    "tags": []
   },
   "outputs": [],
   "source": [
    "rows = []\n",
    "for target_pid, (problem_id, df) in zip(hs_pids, df_prompts.groupby('problem_id')):\n",
    "    df_puzzle = df_puzzles[df_puzzles.puzzle_id == target_pid]\n",
    "    array = df_to_array(df_puzzle)\n",
    "    if mode == 'list':\n",
    "        question, answer = create_hs_explanation_list_prompt(df_puzzle, df_house_types)\n",
    "    else:\n",
    "        question, answer = create_hs_explanation_array_prompt(df_puzzle, df_house_types)\n",
    "    explanation = get_positive_explanation(df_puzzle, df_house_types)\n",
    "    support = '\\n\\n'.join(df.question + ' ' + df.explanation)\n",
    "    prompt = support + '\\n\\n' + question\n",
    "    row = {'problem_id': problem_id, 'prompt': prompt, 'explanation': explanation, 'answer': answer, 'pid_target': target_pid}\n",
    "    for i, puzzle_id in enumerate(df.puzzle_id, 1):\n",
    "        row[f\"pid_{i}\"] = puzzle_id\n",
    "    rows.append(row)\n",
    "    \n",
    "df_problems = pd.DataFrame(rows)"
   ]
  },
  {
   "cell_type": "code",
   "execution_count": 159,
   "id": "1850752c-0d09-41b9-8791-e503922307d9",
   "metadata": {
    "tags": []
   },
   "outputs": [
    {
     "name": "stdout",
     "output_type": "stream",
     "text": [
      "Q: Consider a Sudoku grid with the following numbers:\n",
      "[X 0 0 0 0 0 0 0 0]\n",
      "[0 0 0 0 5 0 0 6 0]\n",
      "[0 0 0 0 0 0 0 5 0]\n",
      "[0 0 0 0 0 0 0 0 6]\n",
      "[0 0 6 0 0 0 0 0 0]\n",
      "[0 5 0 0 0 0 0 0 0]\n",
      "[7 0 0 0 0 0 0 0 0]\n",
      "[9 0 0 0 0 0 0 0 0]\n",
      "[1 0 0 0 0 0 0 0 0]\n",
      "What number must X be?\n",
      "Hint: use the hidden single technique along column that contains X.\n",
      "A: To solve for X in (row 1, column 1), we need to find the number that cannot go in any other cell in its column. Between the two numbers that appear 3 times on the grid, 5 and 6, we arbitrarily choose 5 as a candidate to check whether it can go in the other cells. 5 cannot go in (row 8, column 1), (row 9, column 1), or (row 7, column 1) because these cells already have numbers in them. (row 4, column 1), (row 5, column 1), and (row 6, column 1) cannot contain 5 because they share a 3x3 box with 5 in (row 6, column 2). (row 3, column 1) cannot contain 5 because it shares a row with 5 in (row 3, column 8), and (row 2, column 1) cannot contain 5 because it shares a row with 5 in (row 2, column 5). Since we have eliminated all other eight cells in column 1 as potential locations to place to put the 5, we can conclude that (row 1, column 1) must contain the 5.\n",
      "\n",
      "Q: Consider a Sudoku grid with the following numbers:\n",
      "[0 9 0 0 0 0 0 0 0]\n",
      "[0 0 0 0 9 0 0 0 0]\n",
      "[0 0 6 0 0 0 0 0 0]\n",
      "[X 0 0 0 0 0 0 0 0]\n",
      "[1 0 0 0 0 0 0 0 0]\n",
      "[3 0 0 0 0 0 0 0 0]\n",
      "[0 0 0 6 0 0 0 9 0]\n",
      "[0 0 0 0 0 0 6 0 0]\n",
      "[5 0 0 0 0 0 0 0 0]\n",
      "What number must X be?\n",
      "Hint: use the hidden single technique along column that contains X.\n",
      "A: To solve for X in (row 4, column 1), we need to find the number that cannot go in any other cell in its column. Between the two numbers that appear 3 times on the grid, 9 and 6, we arbitrarily choose 9 as a candidate to check whether it can go in the other cells. 9 cannot go in (row 9, column 1), (row 6, column 1), or (row 5, column 1) because these cells already have numbers in them. (row 1, column 1), (row 2, column 1), and (row 3, column 1) cannot contain 9 because they share a 3x3 box with 9 in (row 1, column 2). (row 7, column 1) cannot contain 9 because it shares a row with 9 in (row 7, column 8). However, there are no numbers that prevent either (row 4, column 1) or (row 8, column 1) from containing 9, so we cannot be certain about either. Choosing 6 as the new candidate and applying a similar logic, we can see that the only cell in column 1 that can contain 6 is (row 4, column 1), so we can conclude that the answer is 6.\n",
      "\n",
      "Q: Consider a Sudoku grid with the following numbers:\n",
      "[0 0 0 0 X 0 0 0 0]\n",
      "[6 0 0 0 4 0 0 0 0]\n",
      "[0 0 0 0 7 0 0 0 0]\n",
      "[0 0 0 6 0 0 0 0 0]\n",
      "[0 0 0 0 0 0 0 0 0]\n",
      "[0 0 0 9 0 0 0 0 0]\n",
      "[0 9 0 0 0 0 0 0 0]\n",
      "[0 0 0 0 5 0 0 0 0]\n",
      "[0 0 6 0 0 0 0 0 9]\n",
      "What number must X be?\n",
      "Hint: use the hidden single technique along column that contains X.\n",
      "A: To solve for X in (row 1, column 5), we need to find the number that cannot go in any other cell in its column. Between the two numbers that appear 3 times on the grid, 9 and 6, we arbitrarily choose 9 as a candidate to check whether it can go in the other cells. 9 cannot go in (row 2, column 5), (row 8, column 5), or (row 3, column 5) because these cells already have numbers in them. (row 4, column 5), (row 5, column 5), and (row 6, column 5) cannot contain 9 because they share a 3x3 box with 9 in (row 6, column 4). (row 7, column 5) cannot contain 9 because it shares a row with 9 in (row 7, column 2), and (row 9, column 5) cannot contain 9 because it shares a row with 9 in (row 9, column 9). Since we have eliminated all other eight cells in column 5 as potential locations to place to put the 9, we can conclude that (row 1, column 5) must contain the 9.\n",
      "\n",
      "Q: Consider a Sudoku grid with the following numbers:\n",
      "[0 X 0 0 0 0 0 0 0]\n",
      "[0 7 0 0 0 8 0 0 0]\n",
      "[0 6 0 0 0 0 0 0 0]\n",
      "[0 0 0 0 8 9 0 0 0]\n",
      "[0 1 0 0 0 0 0 0 0]\n",
      "[0 0 0 0 0 0 0 9 0]\n",
      "[0 0 9 0 0 0 0 0 0]\n",
      "[0 0 0 0 0 0 0 0 0]\n",
      "[0 0 8 0 0 0 0 0 0]\n",
      "What number must X be?\n",
      "Hint: use the hidden single technique along column that contains X.\n",
      "A: To solve for X in (row 1, column 2), we need to find the number that cannot go in any other cell in its column. Between the two numbers that appear 3 times on the grid, 8 and 9, we arbitrarily choose 8 as a candidate to check whether it can go in the other cells. 8 cannot go in (row 5, column 2), (row 3, column 2), or (row 2, column 2) because these cells already have numbers in them. (row 7, column 2), (row 8, column 2), and (row 9, column 2) cannot contain 8 because they share a 3x3 box with 8 in (row 9, column 3). (row 4, column 2) cannot contain 8 because it shares a row with 8 in (row 4, column 5). However, there are no numbers that prevent either (row 1, column 2) or (row 6, column 2) from containing 8, so we cannot be certain about either. Choosing 9 as the new candidate and applying a similar logic, we can see that the only cell in column 2 that can contain 9 is (row 1, column 2), so we can conclude that the answer is 9.\n",
      "\n",
      "Q: Consider a Sudoku grid with the following numbers:\n",
      "[2 0 0 0 0 0 0 0 0]\n",
      "[0 9 0 0 0 0 0 0 0]\n",
      "[0 0 0 0 0 0 0 0 0]\n",
      "[0 0 X 0 0 0 0 0 0]\n",
      "[0 0 7 0 0 0 0 0 0]\n",
      "[0 0 0 0 0 0 0 9 2]\n",
      "[0 0 0 0 0 9 0 0 0]\n",
      "[0 0 4 0 0 2 0 0 0]\n",
      "[0 0 1 0 0 0 0 0 0]\n",
      "What number must X be?\n",
      "Hint: use the hidden single technique along column that contains X.\n",
      "A: To solve for X in (row 4, column 3), we need to find the number that cannot go in any other cell in its column.\n"
     ]
    }
   ],
   "source": [
    "print(df_problems.prompt[0])"
   ]
  },
  {
   "cell_type": "code",
   "execution_count": 160,
   "id": "ef59690e-bbbd-45ab-8f85-401c5bbae363",
   "metadata": {
    "tags": []
   },
   "outputs": [
    {
     "data": {
      "application/vnd.jupyter.widget-view+json": {
       "model_id": "d5d2d0393bc4476da518ab4deb88dc64",
       "version_major": 2,
       "version_minor": 0
      },
      "text/plain": [
       "  0%|          | 0/50 [00:00<?, ?it/s]"
      ]
     },
     "metadata": {},
     "output_type": "display_data"
    },
    {
     "data": {
      "text/plain": [
       "23"
      ]
     },
     "execution_count": 160,
     "metadata": {},
     "output_type": "execute_result"
    }
   ],
   "source": [
    "model = \"text-davinci-003\"\n",
    "\n",
    "responses = []\n",
    "for prompt in tqdm(df_problems.prompt):\n",
    "    p = \"I am a highly intelligent puzzle solving bot.\\n\\n\" + prompt\n",
    "    response = openai.Completion.create(\n",
    "      model=model,\n",
    "      prompt=p,\n",
    "      temperature=0,\n",
    "      max_tokens=256,\n",
    "      top_p=1,\n",
    "      frequency_penalty=0.0,\n",
    "      presence_penalty=0.0,\n",
    "      stop=[\"\\n\"]\n",
    "    )\n",
    "    responses.append(response['choices'][0]['text'])\n",
    "df_problems['response'] = responses\n",
    "df_problems['r_parsed'] = [find_last_number(r) for r in df_problems.response]\n",
    "answers = [find_last_number(a) for a in df_problems.answer]\n",
    "df_problems['correct'] = answers == df_problems.r_parsed\n",
    "df_problems.correct.sum()"
   ]
  },
  {
   "cell_type": "code",
   "execution_count": 161,
   "id": "30701f23-f36a-4d4b-a2c8-07990cebe4a4",
   "metadata": {
    "tags": []
   },
   "outputs": [],
   "source": [
    "dirname = f\"../../data/llm/{model}/\"\n",
    "utils.mkdir(dirname)\n",
    "df_problems.to_csv(dirname + f\"hidden_single_expk4_{mode}_{explanation_type}.tsv\", sep='\\t', index=False)"
   ]
  },
  {
   "cell_type": "code",
   "execution_count": null,
   "id": "a5a8418b-b1b5-4813-9021-7520cfb7a160",
   "metadata": {},
   "outputs": [],
   "source": []
  }
 ],
 "metadata": {
  "kernelspec": {
   "display_name": "el1",
   "language": "python",
   "name": "el1"
  },
  "language_info": {
   "codemirror_mode": {
    "name": "ipython",
    "version": 3
   },
   "file_extension": ".py",
   "mimetype": "text/x-python",
   "name": "python",
   "nbconvert_exporter": "python",
   "pygments_lexer": "ipython3",
   "version": "3.10.8"
  },
  "widgets": {
   "application/vnd.jupyter.widget-state+json": {
    "state": {
     "00c97166180248cd95252cf3fc74ff09": {
      "model_module": "@jupyter-widgets/base",
      "model_module_version": "2.0.0",
      "model_name": "LayoutModel",
      "state": {}
     },
     "02734e9add404f7f9cb32ba97195ba26": {
      "model_module": "@jupyter-widgets/base",
      "model_module_version": "2.0.0",
      "model_name": "LayoutModel",
      "state": {}
     },
     "02c637e1e39e450abee2ed487e54b370": {
      "model_module": "@jupyter-widgets/base",
      "model_module_version": "2.0.0",
      "model_name": "LayoutModel",
      "state": {}
     },
     "034fbedebe9c4ceaa25802fd38e6b6df": {
      "model_module": "@jupyter-widgets/controls",
      "model_module_version": "2.0.0",
      "model_name": "HTMLModel",
      "state": {
       "layout": "IPY_MODEL_606e0a1e4e4a4abdb513654fa3ff0753",
       "style": "IPY_MODEL_94f3a9b154854a59b15360ccee081af7",
       "value": "100%"
      }
     },
     "037702bc9bb446a3a271c9f57753be9f": {
      "model_module": "@jupyter-widgets/controls",
      "model_module_version": "2.0.0",
      "model_name": "HTMLStyleModel",
      "state": {
       "description_width": "",
       "font_size": null,
       "text_color": null
      }
     },
     "03d4d1f4cce44d439f883b6e5e06569d": {
      "model_module": "@jupyter-widgets/base",
      "model_module_version": "2.0.0",
      "model_name": "LayoutModel",
      "state": {}
     },
     "0431e92661a7492597acbae9719abdd5": {
      "model_module": "@jupyter-widgets/controls",
      "model_module_version": "2.0.0",
      "model_name": "HTMLStyleModel",
      "state": {
       "description_width": "",
       "font_size": null,
       "text_color": null
      }
     },
     "044be9ce75454a5e8e0d3fc1c61a393a": {
      "model_module": "@jupyter-widgets/controls",
      "model_module_version": "2.0.0",
      "model_name": "FloatProgressModel",
      "state": {
       "bar_style": "success",
       "layout": "IPY_MODEL_bcf187b2bca748a096d2a91dc45df9e0",
       "max": 200,
       "style": "IPY_MODEL_c6e197429f2c436699b86d59ed873ba2",
       "value": 200
      }
     },
     "058e0713b52f4e8d883968645e68ca5a": {
      "model_module": "@jupyter-widgets/controls",
      "model_module_version": "2.0.0",
      "model_name": "HTMLStyleModel",
      "state": {
       "description_width": "",
       "font_size": null,
       "text_color": null
      }
     },
     "07f1fc6e005a463aa8569f9d6b16d79f": {
      "model_module": "@jupyter-widgets/base",
      "model_module_version": "2.0.0",
      "model_name": "LayoutModel",
      "state": {}
     },
     "08834a6305aa41a494205748f21e39cf": {
      "model_module": "@jupyter-widgets/controls",
      "model_module_version": "2.0.0",
      "model_name": "HTMLModel",
      "state": {
       "layout": "IPY_MODEL_d688249732cd4d15851a0fe32b208041",
       "style": "IPY_MODEL_5b8c4099625b402ca4626b6060671bdd",
       "value": "100%"
      }
     },
     "0a515b56a79544e4b68ac00cd9f4b916": {
      "model_module": "@jupyter-widgets/base",
      "model_module_version": "2.0.0",
      "model_name": "LayoutModel",
      "state": {}
     },
     "0b717cdec0de4deebfb68311c43807e9": {
      "model_module": "@jupyter-widgets/base",
      "model_module_version": "2.0.0",
      "model_name": "LayoutModel",
      "state": {}
     },
     "0bbd0a8b0cb64e7fb7702921bd8b2e17": {
      "model_module": "@jupyter-widgets/controls",
      "model_module_version": "2.0.0",
      "model_name": "HTMLModel",
      "state": {
       "layout": "IPY_MODEL_9efb62b9613a4eff9a079f03449e205c",
       "style": "IPY_MODEL_850cf107169d481d80afb1c42d376deb",
       "value": "  0%"
      }
     },
     "0e0b75b4e7bf49b9bb3c10da967b8e2b": {
      "model_module": "@jupyter-widgets/controls",
      "model_module_version": "2.0.0",
      "model_name": "HTMLModel",
      "state": {
       "layout": "IPY_MODEL_ee21eb1b4d0145fdbf6f083ae884af6b",
       "style": "IPY_MODEL_930ab32210ff461997fa74016b6c3b30",
       "value": "  0%"
      }
     },
     "0e8a85ad017b4d279dcc4c05bed44ccf": {
      "model_module": "@jupyter-widgets/base",
      "model_module_version": "2.0.0",
      "model_name": "LayoutModel",
      "state": {}
     },
     "0ee3a3e19d2d4bd59ef4aee289e2490c": {
      "model_module": "@jupyter-widgets/controls",
      "model_module_version": "2.0.0",
      "model_name": "HTMLStyleModel",
      "state": {
       "description_width": "",
       "font_size": null,
       "text_color": null
      }
     },
     "0f8228e846274a53b51b4981244ed42b": {
      "model_module": "@jupyter-widgets/base",
      "model_module_version": "2.0.0",
      "model_name": "LayoutModel",
      "state": {}
     },
     "0fa83804a17d4fd6be37e0d4b931a66c": {
      "model_module": "@jupyter-widgets/base",
      "model_module_version": "2.0.0",
      "model_name": "LayoutModel",
      "state": {}
     },
     "1022b9870f3c4f5aac77f0ec9cd45343": {
      "model_module": "@jupyter-widgets/controls",
      "model_module_version": "2.0.0",
      "model_name": "FloatProgressModel",
      "state": {
       "bar_style": "success",
       "layout": "IPY_MODEL_90a56f31e0c04dfb9e221e8b3fc8acc0",
       "max": 200,
       "style": "IPY_MODEL_b495404eebb84cf3bdf13ca3a03bc1e0",
       "value": 200
      }
     },
     "1147dd9e10624bd6adf3d90935696c8e": {
      "model_module": "@jupyter-widgets/controls",
      "model_module_version": "2.0.0",
      "model_name": "ProgressStyleModel",
      "state": {
       "description_width": ""
      }
     },
     "139f4be2050c4ce6bc798806ce8d5490": {
      "model_module": "@jupyter-widgets/controls",
      "model_module_version": "2.0.0",
      "model_name": "HTMLStyleModel",
      "state": {
       "description_width": "",
       "font_size": null,
       "text_color": null
      }
     },
     "1462656dc0984cc6bffbb0989973fa94": {
      "model_module": "@jupyter-widgets/base",
      "model_module_version": "2.0.0",
      "model_name": "LayoutModel",
      "state": {}
     },
     "14a979ebf08941099a7effacff8f6605": {
      "model_module": "@jupyter-widgets/controls",
      "model_module_version": "2.0.0",
      "model_name": "FloatProgressModel",
      "state": {
       "bar_style": "success",
       "layout": "IPY_MODEL_5d257fab58a3441ca22ae78e85186791",
       "max": 200,
       "style": "IPY_MODEL_86000d583b5e45d98dd930e9996113cd",
       "value": 200
      }
     },
     "14f956b63ca74d24b033a820e32bea5e": {
      "model_module": "@jupyter-widgets/base",
      "model_module_version": "2.0.0",
      "model_name": "LayoutModel",
      "state": {}
     },
     "1747eb1af557450cabb76846fcc6ee87": {
      "model_module": "@jupyter-widgets/base",
      "model_module_version": "2.0.0",
      "model_name": "LayoutModel",
      "state": {}
     },
     "1773238895cd4116b08d55e9abe54801": {
      "model_module": "@jupyter-widgets/base",
      "model_module_version": "2.0.0",
      "model_name": "LayoutModel",
      "state": {}
     },
     "1880e61a2f6d42cd95461a3b6be28694": {
      "model_module": "@jupyter-widgets/controls",
      "model_module_version": "2.0.0",
      "model_name": "HBoxModel",
      "state": {
       "children": [
        "IPY_MODEL_6a94fe84eb9d4b469a82710992d47b53",
        "IPY_MODEL_41cf7c78327140ac90247018d16928c0",
        "IPY_MODEL_c8e754acac2743a7abec2a3250628ccc"
       ],
       "layout": "IPY_MODEL_9865181a02c94d3da2c9ca9210b636c7"
      }
     },
     "1923ac0a40724779a1d1f5e2237412f0": {
      "model_module": "@jupyter-widgets/base",
      "model_module_version": "2.0.0",
      "model_name": "LayoutModel",
      "state": {}
     },
     "19bd5e1044284f92b3a7eefe6245e109": {
      "model_module": "@jupyter-widgets/controls",
      "model_module_version": "2.0.0",
      "model_name": "HTMLModel",
      "state": {
       "layout": "IPY_MODEL_0fa83804a17d4fd6be37e0d4b931a66c",
       "style": "IPY_MODEL_c31bcd0544e040648e08cc313d184578",
       "value": " 200/200 [00:02&lt;00:00, 93.86it/s]"
      }
     },
     "1a06a112aa2e402da67e8c3837b5156b": {
      "model_module": "@jupyter-widgets/controls",
      "model_module_version": "2.0.0",
      "model_name": "HTMLModel",
      "state": {
       "layout": "IPY_MODEL_1773238895cd4116b08d55e9abe54801",
       "style": "IPY_MODEL_574480365d1248dfafbf7fc21149de30",
       "value": " 50/50 [06:01&lt;00:00,  7.25s/it]"
      }
     },
     "1a299503b22b4b8eb7b63e59899256ae": {
      "model_module": "@jupyter-widgets/controls",
      "model_module_version": "2.0.0",
      "model_name": "HTMLStyleModel",
      "state": {
       "description_width": "",
       "font_size": null,
       "text_color": null
      }
     },
     "1b597f0f617a411c989d2c1b10dffea0": {
      "model_module": "@jupyter-widgets/controls",
      "model_module_version": "2.0.0",
      "model_name": "HTMLModel",
      "state": {
       "layout": "IPY_MODEL_72d4349e6eda4e77b1f8152161f6f876",
       "style": "IPY_MODEL_e10eabc65a4943ae993829239b28fa2c",
       "value": " 200/200 [00:03&lt;00:00, 60.91it/s]"
      }
     },
     "1bf3bc3db7a444b3bedbc5310b1d9fa1": {
      "model_module": "@jupyter-widgets/controls",
      "model_module_version": "2.0.0",
      "model_name": "HTMLModel",
      "state": {
       "layout": "IPY_MODEL_372d5f1f9a114c5794c12d891fe71dbd",
       "style": "IPY_MODEL_ecdaf9d7147544bd887b21e1ba5c7b0f",
       "value": " 200/200 [00:03&lt;00:00, 65.91it/s]"
      }
     },
     "1ca8bfbf9e9b4326ba4ba5a25b4a6f20": {
      "model_module": "@jupyter-widgets/controls",
      "model_module_version": "2.0.0",
      "model_name": "FloatProgressModel",
      "state": {
       "bar_style": "success",
       "layout": "IPY_MODEL_68383f1d46184985bfec9cebd2f7df1d",
       "max": 50,
       "style": "IPY_MODEL_37df7119af1049a1bff7ec213f27e69c",
       "value": 50
      }
     },
     "1cac0bd6f1e046a6884a02c41516dd8a": {
      "model_module": "@jupyter-widgets/controls",
      "model_module_version": "2.0.0",
      "model_name": "HBoxModel",
      "state": {
       "children": [
        "IPY_MODEL_83b8e722ff834f849838cc2511dbd565",
        "IPY_MODEL_807dff49b0814f95aa6f15edf028ab60",
        "IPY_MODEL_6c6fb4002cf4421f922ff81969d369e1"
       ],
       "layout": "IPY_MODEL_0e8a85ad017b4d279dcc4c05bed44ccf"
      }
     },
     "1d44f1f9301a4c57abba867e346ee198": {
      "model_module": "@jupyter-widgets/controls",
      "model_module_version": "2.0.0",
      "model_name": "HBoxModel",
      "state": {
       "children": [
        "IPY_MODEL_db553592937f413c9cabd4e435953207",
        "IPY_MODEL_df510140c43e4501bca60b88b3f9fa76",
        "IPY_MODEL_ddf8fdbf1e784873a3acc3e54655d48b"
       ],
       "layout": "IPY_MODEL_e5f5689011134fbca62643cbe149bad4"
      }
     },
     "1e9206e5fcc64e9884384696ab6bf976": {
      "model_module": "@jupyter-widgets/base",
      "model_module_version": "2.0.0",
      "model_name": "LayoutModel",
      "state": {}
     },
     "233263c2ad244c6c9a651f5154029f8e": {
      "model_module": "@jupyter-widgets/base",
      "model_module_version": "2.0.0",
      "model_name": "LayoutModel",
      "state": {}
     },
     "23c7911073354bc28ba10b01260cd07f": {
      "model_module": "@jupyter-widgets/base",
      "model_module_version": "2.0.0",
      "model_name": "LayoutModel",
      "state": {}
     },
     "2468861d430a4052af60b1ddebc5f9c3": {
      "model_module": "@jupyter-widgets/controls",
      "model_module_version": "2.0.0",
      "model_name": "ProgressStyleModel",
      "state": {
       "description_width": ""
      }
     },
     "26f4a9b554c3437390ba409ff5712287": {
      "model_module": "@jupyter-widgets/base",
      "model_module_version": "2.0.0",
      "model_name": "LayoutModel",
      "state": {}
     },
     "27daaa139e2346ccab3ffe1e2c61ecb9": {
      "model_module": "@jupyter-widgets/base",
      "model_module_version": "2.0.0",
      "model_name": "LayoutModel",
      "state": {}
     },
     "28d29606f72145889a931affea6de437": {
      "model_module": "@jupyter-widgets/controls",
      "model_module_version": "2.0.0",
      "model_name": "ProgressStyleModel",
      "state": {
       "description_width": ""
      }
     },
     "2c926fbe94b9455ea9366748b1bff637": {
      "model_module": "@jupyter-widgets/controls",
      "model_module_version": "2.0.0",
      "model_name": "ProgressStyleModel",
      "state": {
       "description_width": ""
      }
     },
     "2d15a9f217964a3da0245f171083843f": {
      "model_module": "@jupyter-widgets/base",
      "model_module_version": "2.0.0",
      "model_name": "LayoutModel",
      "state": {}
     },
     "31aaffd498d64d469262d2d591229950": {
      "model_module": "@jupyter-widgets/controls",
      "model_module_version": "2.0.0",
      "model_name": "HTMLModel",
      "state": {
       "layout": "IPY_MODEL_3d5c8ae1d7404742bc29502f4d81848b",
       "style": "IPY_MODEL_40e92d8ea7ec4b8ba21974d64e85bacb",
       "value": "100%"
      }
     },
     "33ae82b5b45d450dafd61d3a8f5a2be0": {
      "model_module": "@jupyter-widgets/controls",
      "model_module_version": "2.0.0",
      "model_name": "HTMLStyleModel",
      "state": {
       "description_width": "",
       "font_size": null,
       "text_color": null
      }
     },
     "34a4aa3b3803442c9884bb0316299121": {
      "model_module": "@jupyter-widgets/controls",
      "model_module_version": "2.0.0",
      "model_name": "HTMLModel",
      "state": {
       "layout": "IPY_MODEL_66c2dc974b064cc0b7936da456cf5790",
       "style": "IPY_MODEL_58f64e51f8e5479dafb3e14934b5747f",
       "value": " 50/50 [00:20&lt;00:00,  2.62it/s]"
      }
     },
     "34ad2ad242224bc9812f830af4fb94ce": {
      "model_module": "@jupyter-widgets/controls",
      "model_module_version": "2.0.0",
      "model_name": "HBoxModel",
      "state": {
       "children": [
        "IPY_MODEL_c50b4b4d5e984294940018806c143ba7",
        "IPY_MODEL_e0b6ed1d27064bd4ad2fffb7ac671483",
        "IPY_MODEL_c441e46d1e1b43c38fb0db2aaaa881bf"
       ],
       "layout": "IPY_MODEL_4c4d0b4072024985a35d283a023713d0"
      }
     },
     "3526a92db4d24d908a440b91dc872ebf": {
      "model_module": "@jupyter-widgets/controls",
      "model_module_version": "2.0.0",
      "model_name": "ProgressStyleModel",
      "state": {
       "description_width": ""
      }
     },
     "358dcbb3c95448db9b7f1135a80a32dd": {
      "model_module": "@jupyter-widgets/controls",
      "model_module_version": "2.0.0",
      "model_name": "HBoxModel",
      "state": {
       "children": [
        "IPY_MODEL_fd7eb64771954cb0863693b4ed9ef0fe",
        "IPY_MODEL_dd88c3e67460420cbc0e36d71e559571",
        "IPY_MODEL_8accbad9b0874f5fa8733d4bc9cb6f0d"
       ],
       "layout": "IPY_MODEL_56c02844170f4f3f8f31e5d0fba7e97d"
      }
     },
     "372d5f1f9a114c5794c12d891fe71dbd": {
      "model_module": "@jupyter-widgets/base",
      "model_module_version": "2.0.0",
      "model_name": "LayoutModel",
      "state": {}
     },
     "37490caffe5d48cab22d4b02af51e83d": {
      "model_module": "@jupyter-widgets/base",
      "model_module_version": "2.0.0",
      "model_name": "LayoutModel",
      "state": {}
     },
     "377aa35581864e488478879da25e5e8b": {
      "model_module": "@jupyter-widgets/base",
      "model_module_version": "2.0.0",
      "model_name": "LayoutModel",
      "state": {}
     },
     "37df7119af1049a1bff7ec213f27e69c": {
      "model_module": "@jupyter-widgets/controls",
      "model_module_version": "2.0.0",
      "model_name": "ProgressStyleModel",
      "state": {
       "description_width": ""
      }
     },
     "398010497397461495123046a6263ecb": {
      "model_module": "@jupyter-widgets/controls",
      "model_module_version": "2.0.0",
      "model_name": "HTMLStyleModel",
      "state": {
       "description_width": "",
       "font_size": null,
       "text_color": null
      }
     },
     "3b4bd135cf0b400d8c5a58bfa9a38fae": {
      "model_module": "@jupyter-widgets/base",
      "model_module_version": "2.0.0",
      "model_name": "LayoutModel",
      "state": {}
     },
     "3b542b0cb7af4580831714cd75e2420b": {
      "model_module": "@jupyter-widgets/controls",
      "model_module_version": "2.0.0",
      "model_name": "HTMLStyleModel",
      "state": {
       "description_width": "",
       "font_size": null,
       "text_color": null
      }
     },
     "3b89e8c47540493ab9134d386bee2a56": {
      "model_module": "@jupyter-widgets/controls",
      "model_module_version": "2.0.0",
      "model_name": "ProgressStyleModel",
      "state": {
       "description_width": ""
      }
     },
     "3bab24dee0e541bbbbdba963cc833d79": {
      "model_module": "@jupyter-widgets/controls",
      "model_module_version": "2.0.0",
      "model_name": "ProgressStyleModel",
      "state": {
       "description_width": ""
      }
     },
     "3d5c8ae1d7404742bc29502f4d81848b": {
      "model_module": "@jupyter-widgets/base",
      "model_module_version": "2.0.0",
      "model_name": "LayoutModel",
      "state": {}
     },
     "3e86082fb5c04b6ebc0c616fd640e9b8": {
      "model_module": "@jupyter-widgets/controls",
      "model_module_version": "2.0.0",
      "model_name": "HTMLStyleModel",
      "state": {
       "description_width": "",
       "font_size": null,
       "text_color": null
      }
     },
     "3f527424bc514d8685c10d81dcca9d87": {
      "model_module": "@jupyter-widgets/controls",
      "model_module_version": "2.0.0",
      "model_name": "HTMLModel",
      "state": {
       "layout": "IPY_MODEL_53d5c84e0d5846c3a68bff4e83c8c436",
       "style": "IPY_MODEL_87a88ed4263f4205a71224488604d9be",
       "value": "100%"
      }
     },
     "40e92d8ea7ec4b8ba21974d64e85bacb": {
      "model_module": "@jupyter-widgets/controls",
      "model_module_version": "2.0.0",
      "model_name": "HTMLStyleModel",
      "state": {
       "description_width": "",
       "font_size": null,
       "text_color": null
      }
     },
     "40eabffbf4eb4ccda990512fc9ab569f": {
      "model_module": "@jupyter-widgets/controls",
      "model_module_version": "2.0.0",
      "model_name": "HBoxModel",
      "state": {
       "children": [
        "IPY_MODEL_3f527424bc514d8685c10d81dcca9d87",
        "IPY_MODEL_b6e0eef44fad48d980cfc873a94cedf9",
        "IPY_MODEL_9f2ee296b5c44309b2f300d202116dcb"
       ],
       "layout": "IPY_MODEL_d186eff4b2074d24b3948fe7dfba59e1"
      }
     },
     "41b4d69800174469a4e2d240eaf684f2": {
      "model_module": "@jupyter-widgets/base",
      "model_module_version": "2.0.0",
      "model_name": "LayoutModel",
      "state": {}
     },
     "41cf7c78327140ac90247018d16928c0": {
      "model_module": "@jupyter-widgets/controls",
      "model_module_version": "2.0.0",
      "model_name": "FloatProgressModel",
      "state": {
       "bar_style": "success",
       "layout": "IPY_MODEL_46b10b885f7b4b6fb3032586f44ce613",
       "max": 50,
       "style": "IPY_MODEL_ab485d451abe41ed90e20835e2b57c52",
       "value": 50
      }
     },
     "43ad5ea495bb48bb92161bfcd31829db": {
      "model_module": "@jupyter-widgets/controls",
      "model_module_version": "2.0.0",
      "model_name": "FloatProgressModel",
      "state": {
       "bar_style": "success",
       "layout": "IPY_MODEL_02734e9add404f7f9cb32ba97195ba26",
       "max": 50,
       "style": "IPY_MODEL_1147dd9e10624bd6adf3d90935696c8e",
       "value": 50
      }
     },
     "446baa2a7dc049b78babc6f1a0b5a914": {
      "model_module": "@jupyter-widgets/controls",
      "model_module_version": "2.0.0",
      "model_name": "HBoxModel",
      "state": {
       "children": [
        "IPY_MODEL_7e56a51af0c24f33ab0c887d831cdef1",
        "IPY_MODEL_6a24c8c39854452a8253befe2750f735",
        "IPY_MODEL_69325940a4bb437fb4ee962c3261a175"
       ],
       "layout": "IPY_MODEL_c7c3ce80dc4d45f796c05ce251bb8e9a"
      }
     },
     "4595d0b4259040dda31dc529ea0320ae": {
      "model_module": "@jupyter-widgets/base",
      "model_module_version": "2.0.0",
      "model_name": "LayoutModel",
      "state": {}
     },
     "468384dfaeed415c9f3ba789fba35d28": {
      "model_module": "@jupyter-widgets/controls",
      "model_module_version": "2.0.0",
      "model_name": "HTMLStyleModel",
      "state": {
       "description_width": "",
       "font_size": null,
       "text_color": null
      }
     },
     "46b10b885f7b4b6fb3032586f44ce613": {
      "model_module": "@jupyter-widgets/base",
      "model_module_version": "2.0.0",
      "model_name": "LayoutModel",
      "state": {}
     },
     "4777ffe5da4142cfbbeb785536163fd8": {
      "model_module": "@jupyter-widgets/controls",
      "model_module_version": "2.0.0",
      "model_name": "HTMLModel",
      "state": {
       "layout": "IPY_MODEL_923df3b8d54846ef8f952b7b9fd40897",
       "style": "IPY_MODEL_51b1b3d1a6e64ac697a02275bd302569",
       "value": "  0%"
      }
     },
     "48d1c440f6bb40d2ab59582a372ed2d5": {
      "model_module": "@jupyter-widgets/base",
      "model_module_version": "2.0.0",
      "model_name": "LayoutModel",
      "state": {}
     },
     "49ce8022df0c43ad8fa4a4a085885781": {
      "model_module": "@jupyter-widgets/base",
      "model_module_version": "2.0.0",
      "model_name": "LayoutModel",
      "state": {}
     },
     "4a24a5a7799a431c8ce4b2648642abbe": {
      "model_module": "@jupyter-widgets/controls",
      "model_module_version": "2.0.0",
      "model_name": "HBoxModel",
      "state": {
       "children": [
        "IPY_MODEL_31aaffd498d64d469262d2d591229950",
        "IPY_MODEL_a8a3219a33aa4e1f8925f94a0f966269",
        "IPY_MODEL_94d0e593a6e34476a9af0f5537ceaaa1"
       ],
       "layout": "IPY_MODEL_56e7645556124aec874b588e2caf5dbd"
      }
     },
     "4aee1fdd1dd24185a7fe1855fce6f9fd": {
      "model_module": "@jupyter-widgets/controls",
      "model_module_version": "2.0.0",
      "model_name": "HTMLStyleModel",
      "state": {
       "description_width": "",
       "font_size": null,
       "text_color": null
      }
     },
     "4bc28577477d4e06b3caa22ad378e7c1": {
      "model_module": "@jupyter-widgets/controls",
      "model_module_version": "2.0.0",
      "model_name": "HBoxModel",
      "state": {
       "children": [
        "IPY_MODEL_6b68dde3781c4c08ab45a63ee341c8b7",
        "IPY_MODEL_1022b9870f3c4f5aac77f0ec9cd45343",
        "IPY_MODEL_a13f26ce0d13492abea4c74e60ffbe49"
       ],
       "layout": "IPY_MODEL_27daaa139e2346ccab3ffe1e2c61ecb9"
      }
     },
     "4c4d0b4072024985a35d283a023713d0": {
      "model_module": "@jupyter-widgets/base",
      "model_module_version": "2.0.0",
      "model_name": "LayoutModel",
      "state": {}
     },
     "4c5296a78e8d41a2a4f7bfac778d71e2": {
      "model_module": "@jupyter-widgets/controls",
      "model_module_version": "2.0.0",
      "model_name": "HTMLStyleModel",
      "state": {
       "description_width": "",
       "font_size": null,
       "text_color": null
      }
     },
     "4e2db28e2ef74f49a85f126eba938bdb": {
      "model_module": "@jupyter-widgets/controls",
      "model_module_version": "2.0.0",
      "model_name": "HTMLModel",
      "state": {
       "layout": "IPY_MODEL_ed8e8c7d8b6149369c097b3a1c4cf18d",
       "style": "IPY_MODEL_4aee1fdd1dd24185a7fe1855fce6f9fd",
       "value": " 200/200 [00:03&lt;00:00, 60.56it/s]"
      }
     },
     "4f1ce28d10264b7f83084d664cc181dc": {
      "model_module": "@jupyter-widgets/base",
      "model_module_version": "2.0.0",
      "model_name": "LayoutModel",
      "state": {}
     },
     "51b1b3d1a6e64ac697a02275bd302569": {
      "model_module": "@jupyter-widgets/controls",
      "model_module_version": "2.0.0",
      "model_name": "HTMLStyleModel",
      "state": {
       "description_width": "",
       "font_size": null,
       "text_color": null
      }
     },
     "5230d81d28ac4310bb97afde82ed8ff4": {
      "model_module": "@jupyter-widgets/controls",
      "model_module_version": "2.0.0",
      "model_name": "HTMLModel",
      "state": {
       "layout": "IPY_MODEL_14f956b63ca74d24b033a820e32bea5e",
       "style": "IPY_MODEL_fbfcf8b4559e472f9c20c0bcd1815005",
       "value": "100%"
      }
     },
     "53d5c84e0d5846c3a68bff4e83c8c436": {
      "model_module": "@jupyter-widgets/base",
      "model_module_version": "2.0.0",
      "model_name": "LayoutModel",
      "state": {}
     },
     "53e4ca39ab024125bed729e075cd5e84": {
      "model_module": "@jupyter-widgets/base",
      "model_module_version": "2.0.0",
      "model_name": "LayoutModel",
      "state": {}
     },
     "53ed457c144748709983a294c6ffab07": {
      "model_module": "@jupyter-widgets/base",
      "model_module_version": "2.0.0",
      "model_name": "LayoutModel",
      "state": {}
     },
     "5458aa61edf348b2b7d853f5fd338615": {
      "model_module": "@jupyter-widgets/controls",
      "model_module_version": "2.0.0",
      "model_name": "FloatProgressModel",
      "state": {
       "bar_style": "success",
       "layout": "IPY_MODEL_4595d0b4259040dda31dc529ea0320ae",
       "max": 50,
       "style": "IPY_MODEL_28d29606f72145889a931affea6de437",
       "value": 50
      }
     },
     "545e7e3777b54f44a7e978f87b0e7e79": {
      "model_module": "@jupyter-widgets/controls",
      "model_module_version": "2.0.0",
      "model_name": "HTMLModel",
      "state": {
       "layout": "IPY_MODEL_8af5eb07b6274b4e9cf8dc629061e014",
       "style": "IPY_MODEL_e167b62341c7475c95e0ee6d6d2c4978",
       "value": "100%"
      }
     },
     "549c9ee071b04962b84c36871bbcd512": {
      "model_module": "@jupyter-widgets/controls",
      "model_module_version": "2.0.0",
      "model_name": "HBoxModel",
      "state": {
       "children": [
        "IPY_MODEL_fb59430375cc4ab6a2dade2db8659173",
        "IPY_MODEL_fb643f42a97b4135b5543e739be4eb09",
        "IPY_MODEL_1bf3bc3db7a444b3bedbc5310b1d9fa1"
       ],
       "layout": "IPY_MODEL_df405f6c9f804f078472d129b4741d7d"
      }
     },
     "55daca236d45423687fa22f3106ce0ff": {
      "model_module": "@jupyter-widgets/controls",
      "model_module_version": "2.0.0",
      "model_name": "ProgressStyleModel",
      "state": {
       "description_width": ""
      }
     },
     "56c02844170f4f3f8f31e5d0fba7e97d": {
      "model_module": "@jupyter-widgets/base",
      "model_module_version": "2.0.0",
      "model_name": "LayoutModel",
      "state": {}
     },
     "56e7645556124aec874b588e2caf5dbd": {
      "model_module": "@jupyter-widgets/base",
      "model_module_version": "2.0.0",
      "model_name": "LayoutModel",
      "state": {}
     },
     "574480365d1248dfafbf7fc21149de30": {
      "model_module": "@jupyter-widgets/controls",
      "model_module_version": "2.0.0",
      "model_name": "HTMLStyleModel",
      "state": {
       "description_width": "",
       "font_size": null,
       "text_color": null
      }
     },
     "57cabb6a5dd446fea9c8ca0f8329af29": {
      "model_module": "@jupyter-widgets/base",
      "model_module_version": "2.0.0",
      "model_name": "LayoutModel",
      "state": {}
     },
     "58f64e51f8e5479dafb3e14934b5747f": {
      "model_module": "@jupyter-widgets/controls",
      "model_module_version": "2.0.0",
      "model_name": "HTMLStyleModel",
      "state": {
       "description_width": "",
       "font_size": null,
       "text_color": null
      }
     },
     "5aebc02cacfb40f095d82778a872dc70": {
      "model_module": "@jupyter-widgets/controls",
      "model_module_version": "2.0.0",
      "model_name": "HBoxModel",
      "state": {
       "children": [
        "IPY_MODEL_cd0ddee1c47d456a89ca705c0f273420",
        "IPY_MODEL_14a979ebf08941099a7effacff8f6605",
        "IPY_MODEL_1b597f0f617a411c989d2c1b10dffea0"
       ],
       "layout": "IPY_MODEL_233263c2ad244c6c9a651f5154029f8e"
      }
     },
     "5b576be71c2845db90a3b966cc9dddc3": {
      "model_module": "@jupyter-widgets/controls",
      "model_module_version": "2.0.0",
      "model_name": "FloatProgressModel",
      "state": {
       "bar_style": "success",
       "layout": "IPY_MODEL_5eb541132b8e4801b890655c496927c0",
       "max": 200,
       "style": "IPY_MODEL_eeb37b9e3c644ef794fc185dcf9b06b0",
       "value": 200
      }
     },
     "5b8c4099625b402ca4626b6060671bdd": {
      "model_module": "@jupyter-widgets/controls",
      "model_module_version": "2.0.0",
      "model_name": "HTMLStyleModel",
      "state": {
       "description_width": "",
       "font_size": null,
       "text_color": null
      }
     },
     "5bfa4dc5d04a4483aa1fe0eaeec21e71": {
      "model_module": "@jupyter-widgets/controls",
      "model_module_version": "2.0.0",
      "model_name": "HTMLStyleModel",
      "state": {
       "description_width": "",
       "font_size": null,
       "text_color": null
      }
     },
     "5ce934fc3f6c466c968e8672f0293133": {
      "model_module": "@jupyter-widgets/base",
      "model_module_version": "2.0.0",
      "model_name": "LayoutModel",
      "state": {}
     },
     "5d257fab58a3441ca22ae78e85186791": {
      "model_module": "@jupyter-widgets/base",
      "model_module_version": "2.0.0",
      "model_name": "LayoutModel",
      "state": {}
     },
     "5eb541132b8e4801b890655c496927c0": {
      "model_module": "@jupyter-widgets/base",
      "model_module_version": "2.0.0",
      "model_name": "LayoutModel",
      "state": {}
     },
     "5f5e0f0c465942c3887d2759a37452c0": {
      "model_module": "@jupyter-widgets/base",
      "model_module_version": "2.0.0",
      "model_name": "LayoutModel",
      "state": {}
     },
     "5ffba908d7894cbda070794cde941ab1": {
      "model_module": "@jupyter-widgets/controls",
      "model_module_version": "2.0.0",
      "model_name": "HBoxModel",
      "state": {
       "children": [
        "IPY_MODEL_545e7e3777b54f44a7e978f87b0e7e79",
        "IPY_MODEL_8a2b6b6f9e4142db8039b22a3c807aa0",
        "IPY_MODEL_b23abebb4d884ec2bc82528cd0e28b6d"
       ],
       "layout": "IPY_MODEL_c1c184a0041346a2bfa403fb6678ec90"
      }
     },
     "606e0a1e4e4a4abdb513654fa3ff0753": {
      "model_module": "@jupyter-widgets/base",
      "model_module_version": "2.0.0",
      "model_name": "LayoutModel",
      "state": {}
     },
     "60cee0f9535e4c01aa59b85b1144effc": {
      "model_module": "@jupyter-widgets/controls",
      "model_module_version": "2.0.0",
      "model_name": "HBoxModel",
      "state": {
       "children": [
        "IPY_MODEL_879db89924ac47988e66ec0c64bef412",
        "IPY_MODEL_ea0dab5dd7264e9c80d32b7240a9122a",
        "IPY_MODEL_34a4aa3b3803442c9884bb0316299121"
       ],
       "layout": "IPY_MODEL_5f5e0f0c465942c3887d2759a37452c0"
      }
     },
     "61b55dd57f104d53b7d315b65940d232": {
      "model_module": "@jupyter-widgets/controls",
      "model_module_version": "2.0.0",
      "model_name": "HTMLModel",
      "state": {
       "layout": "IPY_MODEL_d4bb0edb3b4141a79f2b30bd9289a14a",
       "style": "IPY_MODEL_398010497397461495123046a6263ecb",
       "value": " 0/200 [00:00&lt;?, ?it/s]"
      }
     },
     "626e352e2f364f8fadc5093dbded59b6": {
      "model_module": "@jupyter-widgets/controls",
      "model_module_version": "2.0.0",
      "model_name": "ProgressStyleModel",
      "state": {
       "description_width": ""
      }
     },
     "62b00e34ae024bdaa6dfadabb1e962ba": {
      "model_module": "@jupyter-widgets/controls",
      "model_module_version": "2.0.0",
      "model_name": "HTMLStyleModel",
      "state": {
       "description_width": "",
       "font_size": null,
       "text_color": null
      }
     },
     "62dc6c19b2d34d36b2dd7ca563d8324b": {
      "model_module": "@jupyter-widgets/controls",
      "model_module_version": "2.0.0",
      "model_name": "HTMLModel",
      "state": {
       "layout": "IPY_MODEL_2d15a9f217964a3da0245f171083843f",
       "style": "IPY_MODEL_fcbd453ac7124c329f5e907975b7a34a",
       "value": "  0%"
      }
     },
     "6473e013339b464b8532de59919a0eb2": {
      "model_module": "@jupyter-widgets/controls",
      "model_module_version": "2.0.0",
      "model_name": "HTMLStyleModel",
      "state": {
       "description_width": "",
       "font_size": null,
       "text_color": null
      }
     },
     "66c2dc974b064cc0b7936da456cf5790": {
      "model_module": "@jupyter-widgets/base",
      "model_module_version": "2.0.0",
      "model_name": "LayoutModel",
      "state": {}
     },
     "6734e2231a8d4b62b3c87cf306c85478": {
      "model_module": "@jupyter-widgets/controls",
      "model_module_version": "2.0.0",
      "model_name": "FloatProgressModel",
      "state": {
       "bar_style": "danger",
       "layout": "IPY_MODEL_f3963335917a48e8b89e2d477d99e350",
       "max": 200,
       "style": "IPY_MODEL_bb2812062f7f465ea1c60f0db7296ec6"
      }
     },
     "6782bec6efb04754927b2d096e089046": {
      "model_module": "@jupyter-widgets/controls",
      "model_module_version": "2.0.0",
      "model_name": "FloatProgressModel",
      "state": {
       "bar_style": "success",
       "layout": "IPY_MODEL_f95a00aa9acf472fabdddef408d14c09",
       "max": 200,
       "style": "IPY_MODEL_2468861d430a4052af60b1ddebc5f9c3",
       "value": 200
      }
     },
     "68383f1d46184985bfec9cebd2f7df1d": {
      "model_module": "@jupyter-widgets/base",
      "model_module_version": "2.0.0",
      "model_name": "LayoutModel",
      "state": {}
     },
     "69325940a4bb437fb4ee962c3261a175": {
      "model_module": "@jupyter-widgets/controls",
      "model_module_version": "2.0.0",
      "model_name": "HTMLModel",
      "state": {
       "layout": "IPY_MODEL_53e4ca39ab024125bed729e075cd5e84",
       "style": "IPY_MODEL_33ae82b5b45d450dafd61d3a8f5a2be0",
       "value": " 0/50 [00:05&lt;?, ?it/s]"
      }
     },
     "69cc9ff5e5b6419d803d96ec0286da28": {
      "model_module": "@jupyter-widgets/controls",
      "model_module_version": "2.0.0",
      "model_name": "HTMLStyleModel",
      "state": {
       "description_width": "",
       "font_size": null,
       "text_color": null
      }
     },
     "6a24c8c39854452a8253befe2750f735": {
      "model_module": "@jupyter-widgets/controls",
      "model_module_version": "2.0.0",
      "model_name": "FloatProgressModel",
      "state": {
       "bar_style": "danger",
       "layout": "IPY_MODEL_90bc1b12183b46c7996075c48790ff7e",
       "max": 50,
       "style": "IPY_MODEL_ae1310691385425da257acd1cb13ef15"
      }
     },
     "6a94fe84eb9d4b469a82710992d47b53": {
      "model_module": "@jupyter-widgets/controls",
      "model_module_version": "2.0.0",
      "model_name": "HTMLModel",
      "state": {
       "layout": "IPY_MODEL_53ed457c144748709983a294c6ffab07",
       "style": "IPY_MODEL_76d0f07d44484eb6adc0e2bcc1032f07",
       "value": "100%"
      }
     },
     "6b68dde3781c4c08ab45a63ee341c8b7": {
      "model_module": "@jupyter-widgets/controls",
      "model_module_version": "2.0.0",
      "model_name": "HTMLModel",
      "state": {
       "layout": "IPY_MODEL_dbd0f792c59447a381772dfa2f464d46",
       "style": "IPY_MODEL_e642e5b90d07464da92080e2dace483c",
       "value": "100%"
      }
     },
     "6c0667c90bd04e0b9dac59d1b2887793": {
      "model_module": "@jupyter-widgets/controls",
      "model_module_version": "2.0.0",
      "model_name": "HTMLStyleModel",
      "state": {
       "description_width": "",
       "font_size": null,
       "text_color": null
      }
     },
     "6c6fb4002cf4421f922ff81969d369e1": {
      "model_module": "@jupyter-widgets/controls",
      "model_module_version": "2.0.0",
      "model_name": "HTMLModel",
      "state": {
       "layout": "IPY_MODEL_49ce8022df0c43ad8fa4a4a085885781",
       "style": "IPY_MODEL_468384dfaeed415c9f3ba789fba35d28",
       "value": " 50/50 [05:46&lt;00:00,  7.35s/it]"
      }
     },
     "6d545c2fa357444d852c497c784bfb38": {
      "model_module": "@jupyter-widgets/controls",
      "model_module_version": "2.0.0",
      "model_name": "HTMLStyleModel",
      "state": {
       "description_width": "",
       "font_size": null,
       "text_color": null
      }
     },
     "6df112268b4648edb696d255239b0889": {
      "model_module": "@jupyter-widgets/controls",
      "model_module_version": "2.0.0",
      "model_name": "HBoxModel",
      "state": {
       "children": [
        "IPY_MODEL_77b427bf641445fb8b17606658e5fcf5",
        "IPY_MODEL_5458aa61edf348b2b7d853f5fd338615",
        "IPY_MODEL_b70ccbec12974f1bb589c87153039264"
       ],
       "layout": "IPY_MODEL_0b717cdec0de4deebfb68311c43807e9"
      }
     },
     "6e6aa4751a284b538035dc9bc786dd96": {
      "model_module": "@jupyter-widgets/controls",
      "model_module_version": "2.0.0",
      "model_name": "ProgressStyleModel",
      "state": {
       "description_width": ""
      }
     },
     "6f639cb8f96646bea451484181319998": {
      "model_module": "@jupyter-widgets/base",
      "model_module_version": "2.0.0",
      "model_name": "LayoutModel",
      "state": {}
     },
     "72d4349e6eda4e77b1f8152161f6f876": {
      "model_module": "@jupyter-widgets/base",
      "model_module_version": "2.0.0",
      "model_name": "LayoutModel",
      "state": {}
     },
     "73559e86227e4592928cd917ff930c3a": {
      "model_module": "@jupyter-widgets/base",
      "model_module_version": "2.0.0",
      "model_name": "LayoutModel",
      "state": {}
     },
     "76cfc9c385ce4264ae1f91587cab3e7a": {
      "model_module": "@jupyter-widgets/base",
      "model_module_version": "2.0.0",
      "model_name": "LayoutModel",
      "state": {}
     },
     "76d0f07d44484eb6adc0e2bcc1032f07": {
      "model_module": "@jupyter-widgets/controls",
      "model_module_version": "2.0.0",
      "model_name": "HTMLStyleModel",
      "state": {
       "description_width": "",
       "font_size": null,
       "text_color": null
      }
     },
     "775048f8ce254da190ade40f5ddc12fd": {
      "model_module": "@jupyter-widgets/controls",
      "model_module_version": "2.0.0",
      "model_name": "HTMLStyleModel",
      "state": {
       "description_width": "",
       "font_size": null,
       "text_color": null
      }
     },
     "77b427bf641445fb8b17606658e5fcf5": {
      "model_module": "@jupyter-widgets/controls",
      "model_module_version": "2.0.0",
      "model_name": "HTMLModel",
      "state": {
       "layout": "IPY_MODEL_37490caffe5d48cab22d4b02af51e83d",
       "style": "IPY_MODEL_7e06b90cbe394908b4418d62b61004ff",
       "value": "100%"
      }
     },
     "79285e96c8874bbc9d879c4bf4f40b2b": {
      "model_module": "@jupyter-widgets/controls",
      "model_module_version": "2.0.0",
      "model_name": "HBoxModel",
      "state": {
       "children": [
        "IPY_MODEL_0e0b75b4e7bf49b9bb3c10da967b8e2b",
        "IPY_MODEL_96988a46cc97445c8f4e6561a6fc4b7e",
        "IPY_MODEL_c82775d1dc7b496b8a517f88dac30eb2"
       ],
       "layout": "IPY_MODEL_48d1c440f6bb40d2ab59582a372ed2d5"
      }
     },
     "7a3f9cf30d614ce4b09270f03a18ab14": {
      "model_module": "@jupyter-widgets/base",
      "model_module_version": "2.0.0",
      "model_name": "LayoutModel",
      "state": {}
     },
     "7a94d513b7124ba181966f39c0f8afa1": {
      "model_module": "@jupyter-widgets/base",
      "model_module_version": "2.0.0",
      "model_name": "LayoutModel",
      "state": {}
     },
     "7bb0bff27f144b74bef17868e801e976": {
      "model_module": "@jupyter-widgets/controls",
      "model_module_version": "2.0.0",
      "model_name": "ProgressStyleModel",
      "state": {
       "description_width": ""
      }
     },
     "7dce86c201464692bbcd3bd824f289b7": {
      "model_module": "@jupyter-widgets/base",
      "model_module_version": "2.0.0",
      "model_name": "LayoutModel",
      "state": {}
     },
     "7e06b90cbe394908b4418d62b61004ff": {
      "model_module": "@jupyter-widgets/controls",
      "model_module_version": "2.0.0",
      "model_name": "HTMLStyleModel",
      "state": {
       "description_width": "",
       "font_size": null,
       "text_color": null
      }
     },
     "7e56a51af0c24f33ab0c887d831cdef1": {
      "model_module": "@jupyter-widgets/controls",
      "model_module_version": "2.0.0",
      "model_name": "HTMLModel",
      "state": {
       "layout": "IPY_MODEL_8b8d64c6c8144cd6be74bca67409d24e",
       "style": "IPY_MODEL_0ee3a3e19d2d4bd59ef4aee289e2490c",
       "value": "  0%"
      }
     },
     "7f5ae5c8204a44ce8ebd74a1a4a584ca": {
      "model_module": "@jupyter-widgets/base",
      "model_module_version": "2.0.0",
      "model_name": "LayoutModel",
      "state": {}
     },
     "807dff49b0814f95aa6f15edf028ab60": {
      "model_module": "@jupyter-widgets/controls",
      "model_module_version": "2.0.0",
      "model_name": "FloatProgressModel",
      "state": {
       "bar_style": "success",
       "layout": "IPY_MODEL_1e9206e5fcc64e9884384696ab6bf976",
       "max": 50,
       "style": "IPY_MODEL_3b89e8c47540493ab9134d386bee2a56",
       "value": 50
      }
     },
     "80fe43620f50459c87b0251390f31eb2": {
      "model_module": "@jupyter-widgets/controls",
      "model_module_version": "2.0.0",
      "model_name": "HTMLStyleModel",
      "state": {
       "description_width": "",
       "font_size": null,
       "text_color": null
      }
     },
     "83b8e722ff834f849838cc2511dbd565": {
      "model_module": "@jupyter-widgets/controls",
      "model_module_version": "2.0.0",
      "model_name": "HTMLModel",
      "state": {
       "layout": "IPY_MODEL_bd7ef4c200d94e838cd8614e5d73f643",
       "style": "IPY_MODEL_6473e013339b464b8532de59919a0eb2",
       "value": "100%"
      }
     },
     "850cf107169d481d80afb1c42d376deb": {
      "model_module": "@jupyter-widgets/controls",
      "model_module_version": "2.0.0",
      "model_name": "HTMLStyleModel",
      "state": {
       "description_width": "",
       "font_size": null,
       "text_color": null
      }
     },
     "86000d583b5e45d98dd930e9996113cd": {
      "model_module": "@jupyter-widgets/controls",
      "model_module_version": "2.0.0",
      "model_name": "ProgressStyleModel",
      "state": {
       "description_width": ""
      }
     },
     "8658ad7d769341589dda8c159b45285e": {
      "model_module": "@jupyter-widgets/controls",
      "model_module_version": "2.0.0",
      "model_name": "HBoxModel",
      "state": {
       "children": [
        "IPY_MODEL_08834a6305aa41a494205748f21e39cf",
        "IPY_MODEL_1ca8bfbf9e9b4326ba4ba5a25b4a6f20",
        "IPY_MODEL_fef946b4082e445ba2c41a361b147505"
       ],
       "layout": "IPY_MODEL_e75b647067804365a846bc85fd11f430"
      }
     },
     "879db89924ac47988e66ec0c64bef412": {
      "model_module": "@jupyter-widgets/controls",
      "model_module_version": "2.0.0",
      "model_name": "HTMLModel",
      "state": {
       "layout": "IPY_MODEL_6f639cb8f96646bea451484181319998",
       "style": "IPY_MODEL_3e86082fb5c04b6ebc0c616fd640e9b8",
       "value": "100%"
      }
     },
     "87a88ed4263f4205a71224488604d9be": {
      "model_module": "@jupyter-widgets/controls",
      "model_module_version": "2.0.0",
      "model_name": "HTMLStyleModel",
      "state": {
       "description_width": "",
       "font_size": null,
       "text_color": null
      }
     },
     "89b64089ddf34bd293f7dc84bed39f35": {
      "model_module": "@jupyter-widgets/controls",
      "model_module_version": "2.0.0",
      "model_name": "HTMLStyleModel",
      "state": {
       "description_width": "",
       "font_size": null,
       "text_color": null
      }
     },
     "8a2b6b6f9e4142db8039b22a3c807aa0": {
      "model_module": "@jupyter-widgets/controls",
      "model_module_version": "2.0.0",
      "model_name": "FloatProgressModel",
      "state": {
       "bar_style": "success",
       "layout": "IPY_MODEL_03d4d1f4cce44d439f883b6e5e06569d",
       "max": 200,
       "style": "IPY_MODEL_d5fc41e25b644e29bf13e05cc7d8f2c8",
       "value": 200
      }
     },
     "8accbad9b0874f5fa8733d4bc9cb6f0d": {
      "model_module": "@jupyter-widgets/controls",
      "model_module_version": "2.0.0",
      "model_name": "HTMLModel",
      "state": {
       "layout": "IPY_MODEL_faf5588864284ebab7401f106f5844e4",
       "style": "IPY_MODEL_058e0713b52f4e8d883968645e68ca5a",
       "value": " 200/200 [00:03&lt;00:00, 57.44it/s]"
      }
     },
     "8af5eb07b6274b4e9cf8dc629061e014": {
      "model_module": "@jupyter-widgets/base",
      "model_module_version": "2.0.0",
      "model_name": "LayoutModel",
      "state": {}
     },
     "8b8d64c6c8144cd6be74bca67409d24e": {
      "model_module": "@jupyter-widgets/base",
      "model_module_version": "2.0.0",
      "model_name": "LayoutModel",
      "state": {}
     },
     "8c80dcb5857845e88b14f7e54351b834": {
      "model_module": "@jupyter-widgets/controls",
      "model_module_version": "2.0.0",
      "model_name": "HBoxModel",
      "state": {
       "children": [
        "IPY_MODEL_62dc6c19b2d34d36b2dd7ca563d8324b",
        "IPY_MODEL_6734e2231a8d4b62b3c87cf306c85478",
        "IPY_MODEL_933302823b9041bbbb5eab076c76b1ae"
       ],
       "layout": "IPY_MODEL_bf509e5586864d0b991a96b1f41ed21d"
      }
     },
     "8cf7cc994b184a1d8aadf7d88520c108": {
      "model_module": "@jupyter-widgets/controls",
      "model_module_version": "2.0.0",
      "model_name": "HTMLStyleModel",
      "state": {
       "description_width": "",
       "font_size": null,
       "text_color": null
      }
     },
     "8d82b3a48fa841b185541674f64dc2f7": {
      "model_module": "@jupyter-widgets/controls",
      "model_module_version": "2.0.0",
      "model_name": "HTMLStyleModel",
      "state": {
       "description_width": "",
       "font_size": null,
       "text_color": null
      }
     },
     "8e0d786e25074d99bf139306b25ddf81": {
      "model_module": "@jupyter-widgets/controls",
      "model_module_version": "2.0.0",
      "model_name": "HBoxModel",
      "state": {
       "children": [
        "IPY_MODEL_0bbd0a8b0cb64e7fb7702921bd8b2e17",
        "IPY_MODEL_ed4b5d6006b7444bbcdf4725014b6139",
        "IPY_MODEL_61b55dd57f104d53b7d315b65940d232"
       ],
       "layout": "IPY_MODEL_7f5ae5c8204a44ce8ebd74a1a4a584ca"
      }
     },
     "8e13a06c6ba946839e51176ca1ef1ca7": {
      "model_module": "@jupyter-widgets/controls",
      "model_module_version": "2.0.0",
      "model_name": "HBoxModel",
      "state": {
       "children": [
        "IPY_MODEL_4777ffe5da4142cfbbeb785536163fd8",
        "IPY_MODEL_c0d5f16f19b44097a26fea22133c778d",
        "IPY_MODEL_a7d6e3e5cd5a4e149ae7664f58e87964"
       ],
       "layout": "IPY_MODEL_96c797fcbd9a4d2ab1213b5804cd349f"
      }
     },
     "90a56f31e0c04dfb9e221e8b3fc8acc0": {
      "model_module": "@jupyter-widgets/base",
      "model_module_version": "2.0.0",
      "model_name": "LayoutModel",
      "state": {}
     },
     "90bc1b12183b46c7996075c48790ff7e": {
      "model_module": "@jupyter-widgets/base",
      "model_module_version": "2.0.0",
      "model_name": "LayoutModel",
      "state": {}
     },
     "923df3b8d54846ef8f952b7b9fd40897": {
      "model_module": "@jupyter-widgets/base",
      "model_module_version": "2.0.0",
      "model_name": "LayoutModel",
      "state": {}
     },
     "930ab32210ff461997fa74016b6c3b30": {
      "model_module": "@jupyter-widgets/controls",
      "model_module_version": "2.0.0",
      "model_name": "HTMLStyleModel",
      "state": {
       "description_width": "",
       "font_size": null,
       "text_color": null
      }
     },
     "933302823b9041bbbb5eab076c76b1ae": {
      "model_module": "@jupyter-widgets/controls",
      "model_module_version": "2.0.0",
      "model_name": "HTMLModel",
      "state": {
       "layout": "IPY_MODEL_7a94d513b7124ba181966f39c0f8afa1",
       "style": "IPY_MODEL_abf749ba5ba64bb6ba241d2baf355dcd",
       "value": " 0/200 [00:00&lt;?, ?it/s]"
      }
     },
     "94d0e593a6e34476a9af0f5537ceaaa1": {
      "model_module": "@jupyter-widgets/controls",
      "model_module_version": "2.0.0",
      "model_name": "HTMLModel",
      "state": {
       "layout": "IPY_MODEL_d7b4860c105e487ca2fcd547263a0e75",
       "style": "IPY_MODEL_1a299503b22b4b8eb7b63e59899256ae",
       "value": " 50/50 [01:53&lt;00:00,  2.22s/it]"
      }
     },
     "94f3a9b154854a59b15360ccee081af7": {
      "model_module": "@jupyter-widgets/controls",
      "model_module_version": "2.0.0",
      "model_name": "HTMLStyleModel",
      "state": {
       "description_width": "",
       "font_size": null,
       "text_color": null
      }
     },
     "961ed37b52ca4ccbbf60726062b4b2fa": {
      "model_module": "@jupyter-widgets/controls",
      "model_module_version": "2.0.0",
      "model_name": "HTMLModel",
      "state": {
       "layout": "IPY_MODEL_fdcc608123004f71836d38ce607dc0d1",
       "style": "IPY_MODEL_da0bf16a6cfa42f2a58bc929cb512d74",
       "value": " 50/50 [05:43&lt;00:00,  6.96s/it]"
      }
     },
     "96988a46cc97445c8f4e6561a6fc4b7e": {
      "model_module": "@jupyter-widgets/controls",
      "model_module_version": "2.0.0",
      "model_name": "FloatProgressModel",
      "state": {
       "bar_style": "danger",
       "layout": "IPY_MODEL_b2c4a5c721f04159abf6e8b3bb83e595",
       "max": 200,
       "style": "IPY_MODEL_626e352e2f364f8fadc5093dbded59b6"
      }
     },
     "96c797fcbd9a4d2ab1213b5804cd349f": {
      "model_module": "@jupyter-widgets/base",
      "model_module_version": "2.0.0",
      "model_name": "LayoutModel",
      "state": {}
     },
     "9760174c1ae14d52a3f28ddd1629b80c": {
      "model_module": "@jupyter-widgets/controls",
      "model_module_version": "2.0.0",
      "model_name": "HTMLStyleModel",
      "state": {
       "description_width": "",
       "font_size": null,
       "text_color": null
      }
     },
     "9865181a02c94d3da2c9ca9210b636c7": {
      "model_module": "@jupyter-widgets/base",
      "model_module_version": "2.0.0",
      "model_name": "LayoutModel",
      "state": {}
     },
     "99a44b6a9f554e239d6aad1378589928": {
      "model_module": "@jupyter-widgets/base",
      "model_module_version": "2.0.0",
      "model_name": "LayoutModel",
      "state": {}
     },
     "9ae7c80642dd42ceb06da66f47ec5be2": {
      "model_module": "@jupyter-widgets/controls",
      "model_module_version": "2.0.0",
      "model_name": "HTMLStyleModel",
      "state": {
       "description_width": "",
       "font_size": null,
       "text_color": null
      }
     },
     "9b92d6cc16df493aaec7a97d9bdca7c1": {
      "model_module": "@jupyter-widgets/base",
      "model_module_version": "2.0.0",
      "model_name": "LayoutModel",
      "state": {}
     },
     "9bbef319307b484d8a66c6419091b192": {
      "model_module": "@jupyter-widgets/controls",
      "model_module_version": "2.0.0",
      "model_name": "ProgressStyleModel",
      "state": {
       "description_width": ""
      }
     },
     "9ecb32f5a8ed4046886aa6572cd3fe0d": {
      "model_module": "@jupyter-widgets/controls",
      "model_module_version": "2.0.0",
      "model_name": "HTMLModel",
      "state": {
       "layout": "IPY_MODEL_fb0f215c6f5a4fc88e8251a3ff905104",
       "style": "IPY_MODEL_e97103a3aa8c47488f4731e91cd4f01a",
       "value": " 200/200 [00:01&lt;00:00, 126.27it/s]"
      }
     },
     "9efb62b9613a4eff9a079f03449e205c": {
      "model_module": "@jupyter-widgets/base",
      "model_module_version": "2.0.0",
      "model_name": "LayoutModel",
      "state": {}
     },
     "9f2ee296b5c44309b2f300d202116dcb": {
      "model_module": "@jupyter-widgets/controls",
      "model_module_version": "2.0.0",
      "model_name": "HTMLModel",
      "state": {
       "layout": "IPY_MODEL_1462656dc0984cc6bffbb0989973fa94",
       "style": "IPY_MODEL_62b00e34ae024bdaa6dfadabb1e962ba",
       "value": " 50/50 [00:23&lt;00:00,  2.35it/s]"
      }
     },
     "a13f26ce0d13492abea4c74e60ffbe49": {
      "model_module": "@jupyter-widgets/controls",
      "model_module_version": "2.0.0",
      "model_name": "HTMLModel",
      "state": {
       "layout": "IPY_MODEL_e4f19ca160ae4b1099fbb96c4530497b",
       "style": "IPY_MODEL_8cf7cc994b184a1d8aadf7d88520c108",
       "value": " 200/200 [00:03&lt;00:00, 61.47it/s]"
      }
     },
     "a7d6e3e5cd5a4e149ae7664f58e87964": {
      "model_module": "@jupyter-widgets/controls",
      "model_module_version": "2.0.0",
      "model_name": "HTMLModel",
      "state": {
       "layout": "IPY_MODEL_d904367b61b34467988973722330fcb0",
       "style": "IPY_MODEL_139f4be2050c4ce6bc798806ce8d5490",
       "value": " 0/200 [00:00&lt;?, ?it/s]"
      }
     },
     "a8a3219a33aa4e1f8925f94a0f966269": {
      "model_module": "@jupyter-widgets/controls",
      "model_module_version": "2.0.0",
      "model_name": "FloatProgressModel",
      "state": {
       "bar_style": "success",
       "layout": "IPY_MODEL_efdba9cde41344bdb875577b6a09de58",
       "max": 50,
       "style": "IPY_MODEL_ca4229f023c94a69af67830fbb18dff2",
       "value": 50
      }
     },
     "ab485d451abe41ed90e20835e2b57c52": {
      "model_module": "@jupyter-widgets/controls",
      "model_module_version": "2.0.0",
      "model_name": "ProgressStyleModel",
      "state": {
       "description_width": ""
      }
     },
     "abf749ba5ba64bb6ba241d2baf355dcd": {
      "model_module": "@jupyter-widgets/controls",
      "model_module_version": "2.0.0",
      "model_name": "HTMLStyleModel",
      "state": {
       "description_width": "",
       "font_size": null,
       "text_color": null
      }
     },
     "ad9c4d0a64b546d3be6d27ab2e78a74a": {
      "model_module": "@jupyter-widgets/controls",
      "model_module_version": "2.0.0",
      "model_name": "HTMLStyleModel",
      "state": {
       "description_width": "",
       "font_size": null,
       "text_color": null
      }
     },
     "ae1310691385425da257acd1cb13ef15": {
      "model_module": "@jupyter-widgets/controls",
      "model_module_version": "2.0.0",
      "model_name": "ProgressStyleModel",
      "state": {
       "description_width": ""
      }
     },
     "affbfc8925084cc0aa4df7ff4a730e19": {
      "model_module": "@jupyter-widgets/controls",
      "model_module_version": "2.0.0",
      "model_name": "ProgressStyleModel",
      "state": {
       "description_width": ""
      }
     },
     "b222e878e0c14e279346dec471edca19": {
      "model_module": "@jupyter-widgets/base",
      "model_module_version": "2.0.0",
      "model_name": "LayoutModel",
      "state": {}
     },
     "b23abebb4d884ec2bc82528cd0e28b6d": {
      "model_module": "@jupyter-widgets/controls",
      "model_module_version": "2.0.0",
      "model_name": "HTMLModel",
      "state": {
       "layout": "IPY_MODEL_76cfc9c385ce4264ae1f91587cab3e7a",
       "style": "IPY_MODEL_9760174c1ae14d52a3f28ddd1629b80c",
       "value": " 200/200 [00:03&lt;00:00, 62.32it/s]"
      }
     },
     "b28008eb1c8845589b575baaa876d1f3": {
      "model_module": "@jupyter-widgets/controls",
      "model_module_version": "2.0.0",
      "model_name": "HTMLModel",
      "state": {
       "layout": "IPY_MODEL_7dce86c201464692bbcd3bd824f289b7",
       "style": "IPY_MODEL_775048f8ce254da190ade40f5ddc12fd",
       "value": "100%"
      }
     },
     "b2c4a5c721f04159abf6e8b3bb83e595": {
      "model_module": "@jupyter-widgets/base",
      "model_module_version": "2.0.0",
      "model_name": "LayoutModel",
      "state": {}
     },
     "b495404eebb84cf3bdf13ca3a03bc1e0": {
      "model_module": "@jupyter-widgets/controls",
      "model_module_version": "2.0.0",
      "model_name": "ProgressStyleModel",
      "state": {
       "description_width": ""
      }
     },
     "b6e0eef44fad48d980cfc873a94cedf9": {
      "model_module": "@jupyter-widgets/controls",
      "model_module_version": "2.0.0",
      "model_name": "FloatProgressModel",
      "state": {
       "bar_style": "success",
       "layout": "IPY_MODEL_73559e86227e4592928cd917ff930c3a",
       "max": 50,
       "style": "IPY_MODEL_3526a92db4d24d908a440b91dc872ebf",
       "value": 50
      }
     },
     "b70ccbec12974f1bb589c87153039264": {
      "model_module": "@jupyter-widgets/controls",
      "model_module_version": "2.0.0",
      "model_name": "HTMLModel",
      "state": {
       "layout": "IPY_MODEL_23c7911073354bc28ba10b01260cd07f",
       "style": "IPY_MODEL_c16ced8bcd61470da0a2bcbd91d4c355",
       "value": " 50/50 [00:20&lt;00:00,  2.79it/s]"
      }
     },
     "b7f34244e3764d01903fdd205cccf6a7": {
      "model_module": "@jupyter-widgets/base",
      "model_module_version": "2.0.0",
      "model_name": "LayoutModel",
      "state": {}
     },
     "bb2812062f7f465ea1c60f0db7296ec6": {
      "model_module": "@jupyter-widgets/controls",
      "model_module_version": "2.0.0",
      "model_name": "ProgressStyleModel",
      "state": {
       "description_width": ""
      }
     },
     "bbcdf0e25de545bf91b4256cfbd04352": {
      "model_module": "@jupyter-widgets/base",
      "model_module_version": "2.0.0",
      "model_name": "LayoutModel",
      "state": {}
     },
     "bc3e826d3c484b75948e74bd6f5d7195": {
      "model_module": "@jupyter-widgets/controls",
      "model_module_version": "2.0.0",
      "model_name": "HBoxModel",
      "state": {
       "children": [
        "IPY_MODEL_034fbedebe9c4ceaa25802fd38e6b6df",
        "IPY_MODEL_5b576be71c2845db90a3b966cc9dddc3",
        "IPY_MODEL_4e2db28e2ef74f49a85f126eba938bdb"
       ],
       "layout": "IPY_MODEL_02c637e1e39e450abee2ed487e54b370"
      }
     },
     "bcc3a7aff2524c18b587b29ab76c0445": {
      "model_module": "@jupyter-widgets/base",
      "model_module_version": "2.0.0",
      "model_name": "LayoutModel",
      "state": {}
     },
     "bcf187b2bca748a096d2a91dc45df9e0": {
      "model_module": "@jupyter-widgets/base",
      "model_module_version": "2.0.0",
      "model_name": "LayoutModel",
      "state": {}
     },
     "bd7ef4c200d94e838cd8614e5d73f643": {
      "model_module": "@jupyter-widgets/base",
      "model_module_version": "2.0.0",
      "model_name": "LayoutModel",
      "state": {}
     },
     "be6a298b3d49448d95e1e1d8fdde396d": {
      "model_module": "@jupyter-widgets/controls",
      "model_module_version": "2.0.0",
      "model_name": "HTMLStyleModel",
      "state": {
       "description_width": "",
       "font_size": null,
       "text_color": null
      }
     },
     "bf509e5586864d0b991a96b1f41ed21d": {
      "model_module": "@jupyter-widgets/base",
      "model_module_version": "2.0.0",
      "model_name": "LayoutModel",
      "state": {}
     },
     "c0cab4cf8c7141efbebda7ffaccc420d": {
      "model_module": "@jupyter-widgets/controls",
      "model_module_version": "2.0.0",
      "model_name": "HBoxModel",
      "state": {
       "children": [
        "IPY_MODEL_d4e645b5fdc846cc9e384fe4022b48e7",
        "IPY_MODEL_044be9ce75454a5e8e0d3fc1c61a393a",
        "IPY_MODEL_19bd5e1044284f92b3a7eefe6245e109"
       ],
       "layout": "IPY_MODEL_e49836c113554e2b88f473e32a5a6158"
      }
     },
     "c0d5f16f19b44097a26fea22133c778d": {
      "model_module": "@jupyter-widgets/controls",
      "model_module_version": "2.0.0",
      "model_name": "FloatProgressModel",
      "state": {
       "bar_style": "danger",
       "layout": "IPY_MODEL_1923ac0a40724779a1d1f5e2237412f0",
       "max": 200,
       "style": "IPY_MODEL_55daca236d45423687fa22f3106ce0ff"
      }
     },
     "c16ced8bcd61470da0a2bcbd91d4c355": {
      "model_module": "@jupyter-widgets/controls",
      "model_module_version": "2.0.0",
      "model_name": "HTMLStyleModel",
      "state": {
       "description_width": "",
       "font_size": null,
       "text_color": null
      }
     },
     "c1c184a0041346a2bfa403fb6678ec90": {
      "model_module": "@jupyter-widgets/base",
      "model_module_version": "2.0.0",
      "model_name": "LayoutModel",
      "state": {}
     },
     "c31bcd0544e040648e08cc313d184578": {
      "model_module": "@jupyter-widgets/controls",
      "model_module_version": "2.0.0",
      "model_name": "HTMLStyleModel",
      "state": {
       "description_width": "",
       "font_size": null,
       "text_color": null
      }
     },
     "c441e46d1e1b43c38fb0db2aaaa881bf": {
      "model_module": "@jupyter-widgets/controls",
      "model_module_version": "2.0.0",
      "model_name": "HTMLModel",
      "state": {
       "layout": "IPY_MODEL_0a515b56a79544e4b68ac00cd9f4b916",
       "style": "IPY_MODEL_80fe43620f50459c87b0251390f31eb2",
       "value": " 200/200 [00:03&lt;00:00, 62.70it/s]"
      }
     },
     "c50b4b4d5e984294940018806c143ba7": {
      "model_module": "@jupyter-widgets/controls",
      "model_module_version": "2.0.0",
      "model_name": "HTMLModel",
      "state": {
       "layout": "IPY_MODEL_b7f34244e3764d01903fdd205cccf6a7",
       "style": "IPY_MODEL_be6a298b3d49448d95e1e1d8fdde396d",
       "value": "100%"
      }
     },
     "c6e197429f2c436699b86d59ed873ba2": {
      "model_module": "@jupyter-widgets/controls",
      "model_module_version": "2.0.0",
      "model_name": "ProgressStyleModel",
      "state": {
       "description_width": ""
      }
     },
     "c7999ee1d502456e88539fe4603b2d28": {
      "model_module": "@jupyter-widgets/controls",
      "model_module_version": "2.0.0",
      "model_name": "ProgressStyleModel",
      "state": {
       "description_width": ""
      }
     },
     "c7c3ce80dc4d45f796c05ce251bb8e9a": {
      "model_module": "@jupyter-widgets/base",
      "model_module_version": "2.0.0",
      "model_name": "LayoutModel",
      "state": {}
     },
     "c82775d1dc7b496b8a517f88dac30eb2": {
      "model_module": "@jupyter-widgets/controls",
      "model_module_version": "2.0.0",
      "model_name": "HTMLModel",
      "state": {
       "layout": "IPY_MODEL_57cabb6a5dd446fea9c8ca0f8329af29",
       "style": "IPY_MODEL_6c0667c90bd04e0b9dac59d1b2887793",
       "value": " 0/200 [00:00&lt;?, ?it/s]"
      }
     },
     "c8e754acac2743a7abec2a3250628ccc": {
      "model_module": "@jupyter-widgets/controls",
      "model_module_version": "2.0.0",
      "model_name": "HTMLModel",
      "state": {
       "layout": "IPY_MODEL_ff58eab74b2c4e368e1203139a94ca15",
       "style": "IPY_MODEL_69cc9ff5e5b6419d803d96ec0286da28",
       "value": " 50/50 [06:05&lt;00:00,  7.20s/it]"
      }
     },
     "ca4229f023c94a69af67830fbb18dff2": {
      "model_module": "@jupyter-widgets/controls",
      "model_module_version": "2.0.0",
      "model_name": "ProgressStyleModel",
      "state": {
       "description_width": ""
      }
     },
     "cd0872129e6c4408b864220ee4e62010": {
      "model_module": "@jupyter-widgets/base",
      "model_module_version": "2.0.0",
      "model_name": "LayoutModel",
      "state": {}
     },
     "cd0ddee1c47d456a89ca705c0f273420": {
      "model_module": "@jupyter-widgets/controls",
      "model_module_version": "2.0.0",
      "model_name": "HTMLModel",
      "state": {
       "layout": "IPY_MODEL_b222e878e0c14e279346dec471edca19",
       "style": "IPY_MODEL_3b542b0cb7af4580831714cd75e2420b",
       "value": "100%"
      }
     },
     "cebd5c94520646a494f8c8a0c4668bd1": {
      "model_module": "@jupyter-widgets/controls",
      "model_module_version": "2.0.0",
      "model_name": "HBoxModel",
      "state": {
       "children": [
        "IPY_MODEL_5230d81d28ac4310bb97afde82ed8ff4",
        "IPY_MODEL_43ad5ea495bb48bb92161bfcd31829db",
        "IPY_MODEL_1a06a112aa2e402da67e8c3837b5156b"
       ],
       "layout": "IPY_MODEL_377aa35581864e488478879da25e5e8b"
      }
     },
     "d12d443cba2d47039e44c0008d671d47": {
      "model_module": "@jupyter-widgets/base",
      "model_module_version": "2.0.0",
      "model_name": "LayoutModel",
      "state": {}
     },
     "d186eff4b2074d24b3948fe7dfba59e1": {
      "model_module": "@jupyter-widgets/base",
      "model_module_version": "2.0.0",
      "model_name": "LayoutModel",
      "state": {}
     },
     "d4bb0edb3b4141a79f2b30bd9289a14a": {
      "model_module": "@jupyter-widgets/base",
      "model_module_version": "2.0.0",
      "model_name": "LayoutModel",
      "state": {}
     },
     "d4e645b5fdc846cc9e384fe4022b48e7": {
      "model_module": "@jupyter-widgets/controls",
      "model_module_version": "2.0.0",
      "model_name": "HTMLModel",
      "state": {
       "layout": "IPY_MODEL_1747eb1af557450cabb76846fcc6ee87",
       "style": "IPY_MODEL_8d82b3a48fa841b185541674f64dc2f7",
       "value": "100%"
      }
     },
     "d5393fe2b4244c31a337ff1bf03c60ea": {
      "model_module": "@jupyter-widgets/controls",
      "model_module_version": "2.0.0",
      "model_name": "HBoxModel",
      "state": {
       "children": [
        "IPY_MODEL_da1f6ede965f44848150683a35299178",
        "IPY_MODEL_fd284b05d3de48e8bdfcf288fb3b7094",
        "IPY_MODEL_9ecb32f5a8ed4046886aa6572cd3fe0d"
       ],
       "layout": "IPY_MODEL_d12d443cba2d47039e44c0008d671d47"
      }
     },
     "d5d2d0393bc4476da518ab4deb88dc64": {
      "model_module": "@jupyter-widgets/controls",
      "model_module_version": "2.0.0",
      "model_name": "HBoxModel",
      "state": {
       "children": [
        "IPY_MODEL_b28008eb1c8845589b575baaa876d1f3",
        "IPY_MODEL_eb078ff2aa3541b4840c5ee436ea3fff",
        "IPY_MODEL_961ed37b52ca4ccbbf60726062b4b2fa"
       ],
       "layout": "IPY_MODEL_00c97166180248cd95252cf3fc74ff09"
      }
     },
     "d5fc41e25b644e29bf13e05cc7d8f2c8": {
      "model_module": "@jupyter-widgets/controls",
      "model_module_version": "2.0.0",
      "model_name": "ProgressStyleModel",
      "state": {
       "description_width": ""
      }
     },
     "d688249732cd4d15851a0fe32b208041": {
      "model_module": "@jupyter-widgets/base",
      "model_module_version": "2.0.0",
      "model_name": "LayoutModel",
      "state": {}
     },
     "d7b4860c105e487ca2fcd547263a0e75": {
      "model_module": "@jupyter-widgets/base",
      "model_module_version": "2.0.0",
      "model_name": "LayoutModel",
      "state": {}
     },
     "d904367b61b34467988973722330fcb0": {
      "model_module": "@jupyter-widgets/base",
      "model_module_version": "2.0.0",
      "model_name": "LayoutModel",
      "state": {}
     },
     "da0bf16a6cfa42f2a58bc929cb512d74": {
      "model_module": "@jupyter-widgets/controls",
      "model_module_version": "2.0.0",
      "model_name": "HTMLStyleModel",
      "state": {
       "description_width": "",
       "font_size": null,
       "text_color": null
      }
     },
     "da1f6ede965f44848150683a35299178": {
      "model_module": "@jupyter-widgets/controls",
      "model_module_version": "2.0.0",
      "model_name": "HTMLModel",
      "state": {
       "layout": "IPY_MODEL_cd0872129e6c4408b864220ee4e62010",
       "style": "IPY_MODEL_6d545c2fa357444d852c497c784bfb38",
       "value": "100%"
      }
     },
     "db3956f5805343be97f02cb20b76f81c": {
      "model_module": "@jupyter-widgets/controls",
      "model_module_version": "2.0.0",
      "model_name": "HTMLModel",
      "state": {
       "layout": "IPY_MODEL_bbcdf0e25de545bf91b4256cfbd04352",
       "style": "IPY_MODEL_0431e92661a7492597acbae9719abdd5",
       "value": " 200/200 [00:03&lt;00:00, 62.94it/s]"
      }
     },
     "db553592937f413c9cabd4e435953207": {
      "model_module": "@jupyter-widgets/controls",
      "model_module_version": "2.0.0",
      "model_name": "HTMLModel",
      "state": {
       "layout": "IPY_MODEL_26f4a9b554c3437390ba409ff5712287",
       "style": "IPY_MODEL_5bfa4dc5d04a4483aa1fe0eaeec21e71",
       "value": "100%"
      }
     },
     "db6574b50dc9448b8b710ca450ab4bfd": {
      "model_module": "@jupyter-widgets/controls",
      "model_module_version": "2.0.0",
      "model_name": "HBoxModel",
      "state": {
       "children": [
        "IPY_MODEL_f3919823352f43fc82bd0b4b75db1459",
        "IPY_MODEL_6782bec6efb04754927b2d096e089046",
        "IPY_MODEL_db3956f5805343be97f02cb20b76f81c"
       ],
       "layout": "IPY_MODEL_fa564a44b2ff4c48ab071245e6c01eea"
      }
     },
     "dbd0f792c59447a381772dfa2f464d46": {
      "model_module": "@jupyter-widgets/base",
      "model_module_version": "2.0.0",
      "model_name": "LayoutModel",
      "state": {}
     },
     "dbe3f3c774724feb84b449a31b6d050c": {
      "model_module": "@jupyter-widgets/base",
      "model_module_version": "2.0.0",
      "model_name": "LayoutModel",
      "state": {}
     },
     "dd88c3e67460420cbc0e36d71e559571": {
      "model_module": "@jupyter-widgets/controls",
      "model_module_version": "2.0.0",
      "model_name": "FloatProgressModel",
      "state": {
       "bar_style": "success",
       "layout": "IPY_MODEL_07f1fc6e005a463aa8569f9d6b16d79f",
       "max": 200,
       "style": "IPY_MODEL_9bbef319307b484d8a66c6419091b192",
       "value": 200
      }
     },
     "ddf8fdbf1e784873a3acc3e54655d48b": {
      "model_module": "@jupyter-widgets/controls",
      "model_module_version": "2.0.0",
      "model_name": "HTMLModel",
      "state": {
       "layout": "IPY_MODEL_3b4bd135cf0b400d8c5a58bfa9a38fae",
       "style": "IPY_MODEL_4c5296a78e8d41a2a4f7bfac778d71e2",
       "value": " 50/50 [00:20&lt;00:00,  2.57it/s]"
      }
     },
     "df405f6c9f804f078472d129b4741d7d": {
      "model_module": "@jupyter-widgets/base",
      "model_module_version": "2.0.0",
      "model_name": "LayoutModel",
      "state": {}
     },
     "df510140c43e4501bca60b88b3f9fa76": {
      "model_module": "@jupyter-widgets/controls",
      "model_module_version": "2.0.0",
      "model_name": "FloatProgressModel",
      "state": {
       "bar_style": "success",
       "layout": "IPY_MODEL_9b92d6cc16df493aaec7a97d9bdca7c1",
       "max": 50,
       "style": "IPY_MODEL_c7999ee1d502456e88539fe4603b2d28",
       "value": 50
      }
     },
     "e0b6ed1d27064bd4ad2fffb7ac671483": {
      "model_module": "@jupyter-widgets/controls",
      "model_module_version": "2.0.0",
      "model_name": "FloatProgressModel",
      "state": {
       "bar_style": "success",
       "layout": "IPY_MODEL_41b4d69800174469a4e2d240eaf684f2",
       "max": 200,
       "style": "IPY_MODEL_6e6aa4751a284b538035dc9bc786dd96",
       "value": 200
      }
     },
     "e10eabc65a4943ae993829239b28fa2c": {
      "model_module": "@jupyter-widgets/controls",
      "model_module_version": "2.0.0",
      "model_name": "HTMLStyleModel",
      "state": {
       "description_width": "",
       "font_size": null,
       "text_color": null
      }
     },
     "e167b62341c7475c95e0ee6d6d2c4978": {
      "model_module": "@jupyter-widgets/controls",
      "model_module_version": "2.0.0",
      "model_name": "HTMLStyleModel",
      "state": {
       "description_width": "",
       "font_size": null,
       "text_color": null
      }
     },
     "e49836c113554e2b88f473e32a5a6158": {
      "model_module": "@jupyter-widgets/base",
      "model_module_version": "2.0.0",
      "model_name": "LayoutModel",
      "state": {}
     },
     "e4f19ca160ae4b1099fbb96c4530497b": {
      "model_module": "@jupyter-widgets/base",
      "model_module_version": "2.0.0",
      "model_name": "LayoutModel",
      "state": {}
     },
     "e5f5689011134fbca62643cbe149bad4": {
      "model_module": "@jupyter-widgets/base",
      "model_module_version": "2.0.0",
      "model_name": "LayoutModel",
      "state": {}
     },
     "e642e5b90d07464da92080e2dace483c": {
      "model_module": "@jupyter-widgets/controls",
      "model_module_version": "2.0.0",
      "model_name": "HTMLStyleModel",
      "state": {
       "description_width": "",
       "font_size": null,
       "text_color": null
      }
     },
     "e75b647067804365a846bc85fd11f430": {
      "model_module": "@jupyter-widgets/base",
      "model_module_version": "2.0.0",
      "model_name": "LayoutModel",
      "state": {}
     },
     "e8a09bcea9d743da8cad102fee91029f": {
      "model_module": "@jupyter-widgets/base",
      "model_module_version": "2.0.0",
      "model_name": "LayoutModel",
      "state": {}
     },
     "e97103a3aa8c47488f4731e91cd4f01a": {
      "model_module": "@jupyter-widgets/controls",
      "model_module_version": "2.0.0",
      "model_name": "HTMLStyleModel",
      "state": {
       "description_width": "",
       "font_size": null,
       "text_color": null
      }
     },
     "ea0dab5dd7264e9c80d32b7240a9122a": {
      "model_module": "@jupyter-widgets/controls",
      "model_module_version": "2.0.0",
      "model_name": "FloatProgressModel",
      "state": {
       "bar_style": "success",
       "layout": "IPY_MODEL_dbe3f3c774724feb84b449a31b6d050c",
       "max": 50,
       "style": "IPY_MODEL_3bab24dee0e541bbbbdba963cc833d79",
       "value": 50
      }
     },
     "eb078ff2aa3541b4840c5ee436ea3fff": {
      "model_module": "@jupyter-widgets/controls",
      "model_module_version": "2.0.0",
      "model_name": "FloatProgressModel",
      "state": {
       "bar_style": "success",
       "layout": "IPY_MODEL_4f1ce28d10264b7f83084d664cc181dc",
       "max": 50,
       "style": "IPY_MODEL_f55b2d62ca8f413594abc72fc25f206d",
       "value": 50
      }
     },
     "ecdaf9d7147544bd887b21e1ba5c7b0f": {
      "model_module": "@jupyter-widgets/controls",
      "model_module_version": "2.0.0",
      "model_name": "HTMLStyleModel",
      "state": {
       "description_width": "",
       "font_size": null,
       "text_color": null
      }
     },
     "ed4b5d6006b7444bbcdf4725014b6139": {
      "model_module": "@jupyter-widgets/controls",
      "model_module_version": "2.0.0",
      "model_name": "FloatProgressModel",
      "state": {
       "bar_style": "danger",
       "layout": "IPY_MODEL_bcc3a7aff2524c18b587b29ab76c0445",
       "max": 200,
       "style": "IPY_MODEL_affbfc8925084cc0aa4df7ff4a730e19"
      }
     },
     "ed8e8c7d8b6149369c097b3a1c4cf18d": {
      "model_module": "@jupyter-widgets/base",
      "model_module_version": "2.0.0",
      "model_name": "LayoutModel",
      "state": {}
     },
     "ee21eb1b4d0145fdbf6f083ae884af6b": {
      "model_module": "@jupyter-widgets/base",
      "model_module_version": "2.0.0",
      "model_name": "LayoutModel",
      "state": {}
     },
     "eeb37b9e3c644ef794fc185dcf9b06b0": {
      "model_module": "@jupyter-widgets/controls",
      "model_module_version": "2.0.0",
      "model_name": "ProgressStyleModel",
      "state": {
       "description_width": ""
      }
     },
     "efdba9cde41344bdb875577b6a09de58": {
      "model_module": "@jupyter-widgets/base",
      "model_module_version": "2.0.0",
      "model_name": "LayoutModel",
      "state": {}
     },
     "f3919823352f43fc82bd0b4b75db1459": {
      "model_module": "@jupyter-widgets/controls",
      "model_module_version": "2.0.0",
      "model_name": "HTMLModel",
      "state": {
       "layout": "IPY_MODEL_5ce934fc3f6c466c968e8672f0293133",
       "style": "IPY_MODEL_ad9c4d0a64b546d3be6d27ab2e78a74a",
       "value": "100%"
      }
     },
     "f3963335917a48e8b89e2d477d99e350": {
      "model_module": "@jupyter-widgets/base",
      "model_module_version": "2.0.0",
      "model_name": "LayoutModel",
      "state": {}
     },
     "f55b2d62ca8f413594abc72fc25f206d": {
      "model_module": "@jupyter-widgets/controls",
      "model_module_version": "2.0.0",
      "model_name": "ProgressStyleModel",
      "state": {
       "description_width": ""
      }
     },
     "f95a00aa9acf472fabdddef408d14c09": {
      "model_module": "@jupyter-widgets/base",
      "model_module_version": "2.0.0",
      "model_name": "LayoutModel",
      "state": {}
     },
     "fa564a44b2ff4c48ab071245e6c01eea": {
      "model_module": "@jupyter-widgets/base",
      "model_module_version": "2.0.0",
      "model_name": "LayoutModel",
      "state": {}
     },
     "faf5588864284ebab7401f106f5844e4": {
      "model_module": "@jupyter-widgets/base",
      "model_module_version": "2.0.0",
      "model_name": "LayoutModel",
      "state": {}
     },
     "fb0f215c6f5a4fc88e8251a3ff905104": {
      "model_module": "@jupyter-widgets/base",
      "model_module_version": "2.0.0",
      "model_name": "LayoutModel",
      "state": {}
     },
     "fb59430375cc4ab6a2dade2db8659173": {
      "model_module": "@jupyter-widgets/controls",
      "model_module_version": "2.0.0",
      "model_name": "HTMLModel",
      "state": {
       "layout": "IPY_MODEL_fcca24c5fd0f463d8e3ea14b8e2840d9",
       "style": "IPY_MODEL_037702bc9bb446a3a271c9f57753be9f",
       "value": "100%"
      }
     },
     "fb643f42a97b4135b5543e739be4eb09": {
      "model_module": "@jupyter-widgets/controls",
      "model_module_version": "2.0.0",
      "model_name": "FloatProgressModel",
      "state": {
       "bar_style": "success",
       "layout": "IPY_MODEL_7a3f9cf30d614ce4b09270f03a18ab14",
       "max": 200,
       "style": "IPY_MODEL_2c926fbe94b9455ea9366748b1bff637",
       "value": 200
      }
     },
     "fbfcf8b4559e472f9c20c0bcd1815005": {
      "model_module": "@jupyter-widgets/controls",
      "model_module_version": "2.0.0",
      "model_name": "HTMLStyleModel",
      "state": {
       "description_width": "",
       "font_size": null,
       "text_color": null
      }
     },
     "fcbd453ac7124c329f5e907975b7a34a": {
      "model_module": "@jupyter-widgets/controls",
      "model_module_version": "2.0.0",
      "model_name": "HTMLStyleModel",
      "state": {
       "description_width": "",
       "font_size": null,
       "text_color": null
      }
     },
     "fcca24c5fd0f463d8e3ea14b8e2840d9": {
      "model_module": "@jupyter-widgets/base",
      "model_module_version": "2.0.0",
      "model_name": "LayoutModel",
      "state": {}
     },
     "fd284b05d3de48e8bdfcf288fb3b7094": {
      "model_module": "@jupyter-widgets/controls",
      "model_module_version": "2.0.0",
      "model_name": "FloatProgressModel",
      "state": {
       "bar_style": "success",
       "layout": "IPY_MODEL_0f8228e846274a53b51b4981244ed42b",
       "max": 200,
       "style": "IPY_MODEL_7bb0bff27f144b74bef17868e801e976",
       "value": 200
      }
     },
     "fd7eb64771954cb0863693b4ed9ef0fe": {
      "model_module": "@jupyter-widgets/controls",
      "model_module_version": "2.0.0",
      "model_name": "HTMLModel",
      "state": {
       "layout": "IPY_MODEL_99a44b6a9f554e239d6aad1378589928",
       "style": "IPY_MODEL_9ae7c80642dd42ceb06da66f47ec5be2",
       "value": "100%"
      }
     },
     "fdcc608123004f71836d38ce607dc0d1": {
      "model_module": "@jupyter-widgets/base",
      "model_module_version": "2.0.0",
      "model_name": "LayoutModel",
      "state": {}
     },
     "fef946b4082e445ba2c41a361b147505": {
      "model_module": "@jupyter-widgets/controls",
      "model_module_version": "2.0.0",
      "model_name": "HTMLModel",
      "state": {
       "layout": "IPY_MODEL_e8a09bcea9d743da8cad102fee91029f",
       "style": "IPY_MODEL_89b64089ddf34bd293f7dc84bed39f35",
       "value": " 50/50 [00:22&lt;00:00,  2.25it/s]"
      }
     },
     "ff58eab74b2c4e368e1203139a94ca15": {
      "model_module": "@jupyter-widgets/base",
      "model_module_version": "2.0.0",
      "model_name": "LayoutModel",
      "state": {}
     }
    },
    "version_major": 2,
    "version_minor": 0
   }
  }
 },
 "nbformat": 4,
 "nbformat_minor": 5
}
